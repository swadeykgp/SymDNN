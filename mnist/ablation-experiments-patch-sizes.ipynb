{
 "cells": [
  {
   "cell_type": "markdown",
   "id": "a05b2177",
   "metadata": {},
   "source": [
    "## MNIST Adversarial defense using SymDNN - This notebook has limited number of  vizualizations"
   ]
  },
  {
   "cell_type": "code",
   "execution_count": 1,
   "id": "933fe77c",
   "metadata": {
    "ExecuteTime": {
     "end_time": "2022-03-03T17:19:37.357656Z",
     "start_time": "2022-03-03T17:19:36.405401Z"
    }
   },
   "outputs": [],
   "source": [
    "# Basic imports & definitions for MNIST inference\n",
    "import torch\n",
    "import random\n",
    "import torchvision\n",
    "from torchvision import datasets, transforms\n",
    "import torch.nn as nn\n",
    "import torch.nn.functional as F\n",
    "import matplotlib.pyplot as plt\n",
    "import numpy as np\n",
    "import math\n",
    "import faiss\n",
    "import sys\n",
    "torch.manual_seed(0)\n",
    "np.random.seed(0)\n",
    "random.seed(0)\n",
    "import warnings\n",
    "warnings.filterwarnings('ignore')\n",
    "\n",
    "plt.rcParams['figure.dpi'] = 100 \n",
    "sys.path.insert(1, '../core')\n",
    "from patchutils import symdnn_purify, fm_to_symbolic_fm as sym_mnist"
   ]
  },
  {
   "cell_type": "code",
   "execution_count": 2,
   "id": "d36dff23",
   "metadata": {
    "ExecuteTime": {
     "end_time": "2022-03-03T17:19:39.763278Z",
     "start_time": "2022-03-03T17:19:39.746894Z"
    }
   },
   "outputs": [],
   "source": [
    "# Basic model for MNIST inference\n",
    "\n",
    "#  From my training code\n",
    "\n",
    "torch.manual_seed(0)\n",
    "np.random.seed(0)\n",
    "random.seed(0)\n",
    "apply_transform = transforms.Compose([transforms.Resize(32),transforms.ToTensor(),\n",
    "                                      transforms.Normalize((0.1309,), (0.2893,))])\n",
    "# Change the dataset folder to the proper location in a new system\n",
    "testset = datasets.MNIST(root='../../../dataset', train=False, download=True, transform=apply_transform)\n",
    "testloader = torch.utils.data.DataLoader(testset, batch_size=1, shuffle=False)\n",
    "testloader_std = torch.utils.data.DataLoader(testset, batch_size=64, shuffle=False)\n",
    "\n",
    "random_indices = list(range(0, len(testset), 5))\n",
    "testset_subset = torch.utils.data.Subset(testset, random_indices)\n",
    "testloader_subset = torch.utils.data.DataLoader(testset_subset, batch_size=1, shuffle=False)\n",
    "\n",
    "class CNN_LeNet(nn.Module):\n",
    "    def __init__(self):\n",
    "        super(CNN_LeNet, self).__init__()\n",
    "        # Define the net structure\n",
    "        # This is the input layer first Convolution\n",
    "        self.conv1 = nn.Conv2d(1, 6, kernel_size=5)\n",
    "        self.pool1 = nn.MaxPool2d(kernel_size=2,stride=2)\n",
    "        self.conv2 = nn.Conv2d(6, 16, kernel_size=5)\n",
    "        self.pool2 = nn.MaxPool2d(kernel_size=2,stride=2)\n",
    "        self.fc1 = nn.Linear(400,120)\n",
    "        self.fc2 = nn.Linear(120,84)\n",
    "        self.fc3 = nn.Linear(84, 10) \n",
    "    \n",
    "    def forward(self, x): \n",
    "        x = F.relu(self.conv1(x))\n",
    "        x = self.pool1(x)\n",
    "        x = F.relu(self.conv2(x))\n",
    "        x = self.pool2(x)\n",
    "        x = x.view(-1, 400)\n",
    "        x = F.relu(self.fc1(x))\n",
    "        x = F.relu(self.fc2(x))\n",
    "        x = self.fc3(x)\n",
    "        x = F.softmax(x,dim=1)\n",
    "        return x"
   ]
  },
  {
   "cell_type": "code",
   "execution_count": 3,
   "id": "3e7866cb",
   "metadata": {
    "ExecuteTime": {
     "end_time": "2022-03-03T17:19:43.307059Z",
     "start_time": "2022-03-03T17:19:43.293006Z"
    }
   },
   "outputs": [],
   "source": [
    "classes = ('0', '1', '2', '3', '4', '5', '6', '7', '8', '9')"
   ]
  },
  {
   "cell_type": "markdown",
   "id": "9705c8ce",
   "metadata": {},
   "source": [
    "### The standard model \"pretrained_model\" is trained on normalized MNIST data\n",
    "### The  model \"pretrained_nr_model\" is trained on data clamped between 0 & 1\n",
    "### The  model \"pretrained_sc_model\" is trained on data scaled between 0 & 1"
   ]
  },
  {
   "cell_type": "code",
   "execution_count": 4,
   "id": "cc1886e8",
   "metadata": {
    "ExecuteTime": {
     "end_time": "2022-03-03T17:19:46.161870Z",
     "start_time": "2022-03-03T17:19:46.131639Z"
    }
   },
   "outputs": [
    {
     "data": {
      "text/plain": [
       "CNN_LeNet(\n",
       "  (conv1): Conv2d(1, 6, kernel_size=(5, 5), stride=(1, 1))\n",
       "  (pool1): MaxPool2d(kernel_size=2, stride=2, padding=0, dilation=1, ceil_mode=False)\n",
       "  (conv2): Conv2d(6, 16, kernel_size=(5, 5), stride=(1, 1))\n",
       "  (pool2): MaxPool2d(kernel_size=2, stride=2, padding=0, dilation=1, ceil_mode=False)\n",
       "  (fc1): Linear(in_features=400, out_features=120, bias=True)\n",
       "  (fc2): Linear(in_features=120, out_features=84, bias=True)\n",
       "  (fc3): Linear(in_features=84, out_features=10, bias=True)\n",
       ")"
      ]
     },
     "execution_count": 4,
     "metadata": {},
     "output_type": "execute_result"
    }
   ],
   "source": [
    "pretrained_sc_model = \"./mnist_sc_v0_best.pt\"\n",
    "mnist_sc_model = CNN_LeNet()\n",
    "mnist_sc_model.load_state_dict(torch.load(\"mnist_sc_v0_best.pt\"))\n",
    "mnist_sc_model.eval()"
   ]
  },
  {
   "cell_type": "code",
   "execution_count": 5,
   "id": "23389132",
   "metadata": {
    "ExecuteTime": {
     "end_time": "2022-03-03T17:19:49.234391Z",
     "start_time": "2022-03-03T17:19:49.230555Z"
    }
   },
   "outputs": [],
   "source": [
    "# Define a custom function that will clamp the images between 0 & 1 , without being too harsh as torch.clamp \n",
    "def softclamp01(image_tensor):\n",
    "    image_tensor_shape = image_tensor.shape\n",
    "    image_tensor = image_tensor.view(image_tensor.size(0), -1)\n",
    "    image_tensor -= image_tensor.min(1, keepdim=True)[0]\n",
    "    image_tensor /= image_tensor.max(1, keepdim=True)[0]\n",
    "    image_tensor = image_tensor.view(image_tensor_shape)\n",
    "    return image_tensor"
   ]
  },
  {
   "cell_type": "code",
   "execution_count": 6,
   "id": "76887a6b",
   "metadata": {
    "ExecuteTime": {
     "end_time": "2022-03-03T17:19:52.448985Z",
     "start_time": "2022-03-03T17:19:52.444577Z"
    }
   },
   "outputs": [],
   "source": [
    "# Lets check the kind of prediction the model is doing - the standard non symbolic infrence\n",
    "def mnist_test_base_acc(model, nr=0):\n",
    "    base_clampled_clean = 0\n",
    "    total = 0\n",
    "    # Clean base  inference   \n",
    "    for images, labels in testloader_std:\n",
    "        with torch.no_grad():\n",
    "            if nr == 0:\n",
    "                X = images\n",
    "            elif nr == 1:\n",
    "                X = softclamp01(images)\n",
    "            else:\n",
    "                X = torch.clamp(images, 0,1)\n",
    "            y = labels\n",
    "            output = model.forward(X)\n",
    "            for idx, i in enumerate(output):\n",
    "                if torch.argmax(i) == y[idx]:\n",
    "                    base_clampled_clean += 1\n",
    "                #else:\n",
    "                #    # Whenever there is an error, print the image\n",
    "                #    print(\"Misclassification: Model: clean base gradinit. Test Image #: {}, Mispredicted label: {}\".format(total+1, torch.argmax(i)))\n",
    "                total +=1\n",
    "    return float(base_clampled_clean / total) "
   ]
  },
  {
   "cell_type": "code",
   "execution_count": 7,
   "id": "794f9c3b",
   "metadata": {
    "ExecuteTime": {
     "end_time": "2022-03-03T17:20:00.746935Z",
     "start_time": "2022-03-03T17:20:00.718828Z"
    }
   },
   "outputs": [],
   "source": [
    "# Test accuracy of symbolic inference\n",
    "def mnist_test_sym_acc(model, nr, sym_mnist,n_clusters, index,  patch_size, stride, channel_count, instr=False):\n",
    "    correct = 0 \n",
    "    total = 0 \n",
    "    centroid_lut = index.reconstruct_n(0, n_clusters)\n",
    "    if instr:\n",
    "        pdf = np.zeros((n_clusters,), dtype=int)\n",
    "    model.eval()\n",
    "    with torch.no_grad():\n",
    "        for data in testloader:\n",
    "            X, y = data\n",
    "            if nr == 0:\n",
    "                X = X\n",
    "            elif nr == 1:\n",
    "                X = softclamp01(X)\n",
    "            else:\n",
    "                X = torch.clamp(X, 0,1)\n",
    "            if instr:\n",
    "                Xsym_, pdf = sym_mnist(X.squeeze(), n_clusters, index, centroid_lut,  patch_size, stride, channel_count, ana=False, multi=False, instr=True, randomize=False, rlevel=None, rbalance=True, pdf=pdf)\n",
    "            else:\n",
    "                Xsym_ = sym_mnist(X.squeeze(), n_clusters, index, centroid_lut, patch_size, stride, channel_count, ana=False, multi=False, instr=False, randomize=False, rlevel=None, rbalance=True, pdf=None)\n",
    "            Xsym = torch.from_numpy(Xsym_)\n",
    "            Xsym = Xsym.unsqueeze(0)\n",
    "            output = model.forward(Xsym.float())\n",
    "            for idx, i in enumerate(output):\n",
    "                if torch.argmax(i) == y[idx]:\n",
    "                    correct += 1\n",
    "                total += 1\n",
    "    if instr:\n",
    "        return round(correct/total, 4), pdf\n",
    "    else:\n",
    "        return round(correct/total, 4)"
   ]
  },
  {
   "cell_type": "markdown",
   "id": "c406fd18",
   "metadata": {},
   "source": [
    "### Lets now try the final combination, which is both model &  index trained with same scaled data  - we also try different symbol sizes to come up with the best clean accuracy"
   ]
  },
  {
   "cell_type": "code",
   "execution_count": 8,
   "id": "4db28da4",
   "metadata": {
    "ExecuteTime": {
     "end_time": "2022-03-03T17:20:59.830810Z",
     "start_time": "2022-03-03T17:20:26.522845Z"
    }
   },
   "outputs": [
    {
     "name": "stdout",
     "output_type": "stream",
     "text": [
      "Symbolic test accuracy (codebook 32):99.11% \n"
     ]
    }
   ],
   "source": [
    "index_32 = faiss.read_index(\"./kmeans_img_mnist_k2_s0_c32_sc_v0.index\")\n",
    "n_clusters_32 = 32\n",
    "patch_size = (2, 2)\n",
    "channel_count = 1\n",
    "repeat = 2\n",
    "location=False\n",
    "stride = 0\n",
    "acc = mnist_test_sym_acc(mnist_sc_model, 1, sym_mnist, n_clusters_32, index_32,  patch_size, stride, channel_count)\n",
    "print(\"Symbolic test accuracy (codebook 32):{}% \".format(100*acc))"
   ]
  },
  {
   "cell_type": "code",
   "execution_count": null,
   "id": "bf69b397",
   "metadata": {
    "ExecuteTime": {
     "end_time": "2021-11-20T13:52:16.798669Z",
     "start_time": "2021-11-20T13:51:53.335142Z"
    }
   },
   "outputs": [],
   "source": [
    "index = faiss.read_index(\"./kmeans_img_mnist_k4_s0_c32_sc_v0.index\")\n",
    "n_clusters=32\n",
    "patch_size = (4, 4)\n",
    "channel_count = 1\n",
    "repeat = 2\n",
    "location=False\n",
    "stride = 0\n",
    "acc = mnist_test_sym_acc(mnist_sc_model, 1, sym_mnist, n_clusters, index,  patch_size, stride, channel_count)\n",
    "print(\"Symbolic test accuracy (codebook 32):{}% \".format(100*acc))"
   ]
  },
  {
   "cell_type": "code",
   "execution_count": null,
   "id": "0f2efdd9",
   "metadata": {
    "ExecuteTime": {
     "end_time": "2021-11-20T13:52:46.537937Z",
     "start_time": "2021-11-20T13:52:31.502154Z"
    }
   },
   "outputs": [],
   "source": [
    "index = faiss.read_index(\"./kmeans_img_mnist_k8_s0_c32_sc_v0.index\")\n",
    "n_clusters=32\n",
    "patch_size = (8, 8)\n",
    "channel_count = 1\n",
    "repeat = 2\n",
    "location=False\n",
    "stride = 0\n",
    "acc = mnist_test_sym_acc(mnist_sc_model, 1, sym_mnist, n_clusters, index,  patch_size, stride, channel_count)\n",
    "print(\"Symbolic test accuracy (codebook 32):{}% \".format(100*acc))"
   ]
  },
  {
   "cell_type": "code",
   "execution_count": null,
   "id": "da9acd7f",
   "metadata": {
    "ExecuteTime": {
     "end_time": "2021-11-20T13:53:47.182663Z",
     "start_time": "2021-11-20T13:52:58.183268Z"
    }
   },
   "outputs": [],
   "source": [
    "index_64 = faiss.read_index(\"./kmeans_img_mnist_k2_s0_c64_sc_v0.index\")\n",
    "n_clusters_64=64\n",
    "patch_size = (2, 2)\n",
    "channel_count = 1\n",
    "repeat = 2\n",
    "location=False\n",
    "stride = 0\n",
    "centroid_lut = index.reconstruct_n(0, n_clusters)\n",
    "acc = mnist_test_sym_acc(mnist_sc_model, 1, sym_mnist, n_clusters_64, index_64,  patch_size, stride, channel_count)\n",
    "print(\"Symbolic test accuracy (codebook 64):{}% \".format(100*acc))"
   ]
  },
  {
   "cell_type": "code",
   "execution_count": null,
   "id": "8e1cc38c",
   "metadata": {
    "ExecuteTime": {
     "end_time": "2021-11-20T13:54:11.310922Z",
     "start_time": "2021-11-20T13:53:49.273511Z"
    }
   },
   "outputs": [],
   "source": [
    "index = faiss.read_index(\"./kmeans_img_mnist_k4_s0_c64_sc_v0.index\")\n",
    "n_clusters=64\n",
    "patch_size = (4, 4)\n",
    "channel_count = 1\n",
    "repeat = 2\n",
    "location=False\n",
    "stride = 0\n",
    "acc = mnist_test_sym_acc(mnist_sc_model, 1, sym_mnist, n_clusters, index,  patch_size, stride, channel_count)\n",
    "print(\"Symbolic test accuracy (codebook 64):{}% \".format(100*acc))"
   ]
  },
  {
   "cell_type": "code",
   "execution_count": null,
   "id": "e33453dc",
   "metadata": {
    "ExecuteTime": {
     "end_time": "2021-11-20T13:54:37.893906Z",
     "start_time": "2021-11-20T13:54:22.038752Z"
    }
   },
   "outputs": [],
   "source": [
    "index = faiss.read_index(\"./kmeans_img_mnist_k8_s0_c64_sc_v0.index\")\n",
    "n_clusters=64\n",
    "patch_size = (8, 8)\n",
    "channel_count = 1\n",
    "repeat = 2\n",
    "location=False\n",
    "stride = 0\n",
    "centroid_lut = index.reconstruct_n(0, n_clusters)\n",
    "acc = mnist_test_sym_acc(mnist_sc_model, 1, sym_mnist, n_clusters, index,  patch_size, stride, channel_count)\n",
    "print(\"Symbolic test accuracy (codebook 64):{}% \".format(100*acc))"
   ]
  },
  {
   "cell_type": "code",
   "execution_count": null,
   "id": "529204f8",
   "metadata": {
    "ExecuteTime": {
     "end_time": "2021-11-20T13:57:19.594669Z",
     "start_time": "2021-11-20T13:56:22.196503Z"
    }
   },
   "outputs": [],
   "source": [
    "index = faiss.read_index(\"./kmeans_img_mnist_k2_s0_c128_sc_v0.index\")\n",
    "n_clusters=128\n",
    "patch_size = (2, 2)\n",
    "channel_count = 1\n",
    "repeat = 2\n",
    "location=False\n",
    "stride = 0\n",
    "centroid_lut = index.reconstruct_n(0, n_clusters)\n",
    "acc = mnist_test_sym_acc(mnist_sc_model, 1, sym_mnist, n_clusters, index,  patch_size, stride, channel_count)\n",
    "print(\"Symbolic test accuracy (codebook 128):{}% \".format(100*acc))"
   ]
  },
  {
   "cell_type": "code",
   "execution_count": null,
   "id": "cc03cd34",
   "metadata": {
    "ExecuteTime": {
     "end_time": "2021-11-20T14:58:44.491059Z",
     "start_time": "2021-11-20T14:58:26.337787Z"
    }
   },
   "outputs": [],
   "source": [
    "index = faiss.read_index(\"./kmeans_k4_s0_c128_sc_mnist.index\")\n",
    "n_clusters=128\n",
    "patch_size = (4, 4)\n",
    "channel_count = 1\n",
    "repeat = 2\n",
    "location=False\n",
    "stride = 0\n",
    "centroid_lut = index.reconstruct_n(0, n_clusters)\n",
    "acc = mnist_test_sym_acc(mnist_sc_model, 1, sym_mnist, n_clusters, index,  patch_size, stride, channel_count)\n",
    "print(\"Symbolic test accuracy (codebook 128):{}% \".format(100*acc))"
   ]
  },
  {
   "cell_type": "code",
   "execution_count": 10,
   "id": "60d6e1c2",
   "metadata": {
    "ExecuteTime": {
     "end_time": "2022-03-03T17:22:02.300620Z",
     "start_time": "2022-03-03T17:21:51.793986Z"
    }
   },
   "outputs": [
    {
     "name": "stdout",
     "output_type": "stream",
     "text": [
      "Symbolic test accuracy (codebook 128):95.69% \n"
     ]
    }
   ],
   "source": [
    "index = faiss.read_index(\"./kmeans_k8_s0_c128_sc_mnist.index\")\n",
    "n_clusters=128\n",
    "patch_size = (8, 8)\n",
    "channel_count = 1\n",
    "repeat = 2\n",
    "location=False\n",
    "stride = 0\n",
    "centroid_lut = index.reconstruct_n(0, n_clusters)\n",
    "acc = mnist_test_sym_acc(mnist_sc_model, 1, sym_mnist, n_clusters, index,  patch_size, stride, channel_count)\n",
    "print(\"Symbolic test accuracy (codebook 128):{}% \".format(100*acc))"
   ]
  },
  {
   "cell_type": "code",
   "execution_count": 11,
   "id": "8716d0b6",
   "metadata": {
    "ExecuteTime": {
     "end_time": "2022-03-03T17:22:10.851381Z",
     "start_time": "2022-03-03T17:22:10.840431Z"
    }
   },
   "outputs": [],
   "source": [
    "patterns = [ \"/\" , \"\\\\\" , \"|\" , \"-\" , \"+\" , \"x\", \"o\", \"O\", \".\", \"*\" ]"
   ]
  },
  {
   "cell_type": "code",
   "execution_count": 12,
   "id": "8abe574d",
   "metadata": {
    "ExecuteTime": {
     "end_time": "2022-03-03T17:22:28.397086Z",
     "start_time": "2022-03-03T17:22:28.248630Z"
    }
   },
   "outputs": [
    {
     "data": {
      "image/png": "[encoded data removed]",
      "text/plain": [
       "<Figure size 720x480 with 1 Axes>"
      ]
     },
     "metadata": {
      "needs_background": "light"
     },
     "output_type": "display_data"
    }
   ],
   "source": [
    "# Small hack in Jupyter\n",
    "plt.rcParams['figure.figsize'] = [6,4]\n",
    "plt.rcParams['figure.dpi'] = 120 # 200 e.g. is really fine, but slower\n",
    "plt.rcParams.update({'font.size': 14})\n",
    "N = 3\n",
    "ind = np.arange(N)\n",
    "labels = ('32 symbols', '64 symbols', '128 symbols')\n",
    "\n",
    "k_2 = (99.11, 99.09, 99.14)\n",
    "k_4 = (98.6, 98.93, 99.06)\n",
    "k_8 = (89.3, 93.76, 95.69)\n",
    "fig = plt.figure()\n",
    "ax = fig.add_subplot(111)\n",
    "rects1 = ax.plot(ind, k_2, marker=\"*\", alpha=0.7, color='darkblue')\n",
    "rects2 = ax.plot(ind, k_4, marker=\"^\", color='darkred',  alpha=0.9)\n",
    "rects3 = ax.plot(ind, k_8, marker=\"o\", linestyle=\"--\", color='black',  alpha=0.9)\n",
    "\n",
    "# add some\n",
    "ax.set_ylabel('Accuracy', fontsize=16)\n",
    "ax.set_xlabel('Number of symbols used for abstraction', fontsize=16)\n",
    "ax.set_xticks(ind)\n",
    "ax.set_xticklabels(labels,  fontsize=14)\n",
    "ax.legend( (rects1[0], rects2[0], rects3[0]), ('2x2 patch size', '4x4 patch size', '8x8 patch size'),loc='upper center', bbox_to_anchor=(0.75, 0.4))\n",
    "plt.tight_layout()    \n",
    "plt.show()\n",
    "#plt.savefig('../patch_size_accuracy_mnist.png', format='png', dpi=1000)"
   ]
  },
  {
   "cell_type": "code",
   "execution_count": null,
   "id": "8ef0dd61",
   "metadata": {
    "ExecuteTime": {
     "end_time": "2021-11-10T16:01:48.232229Z",
     "start_time": "2021-11-10T16:01:04.378019Z"
    }
   },
   "outputs": [],
   "source": [
    "index_128 = faiss.read_index(\"./kmeans_img_mnist_k2_s0_c128_sc_v0.index\")\n",
    "n_clusters_128=128\n",
    "patch_size = (2, 2)\n",
    "channel_count = 1\n",
    "repeat = 2\n",
    "location=False\n",
    "stride = 0\n",
    "acc = mnist_test_sym_acc(mnist_sc_model, 0, sym_mnist, n_clusters_128, index_128,  patch_size, stride, channel_count)\n",
    "print(\"Symbolic test accuracy (codebook 128):{}% \".format(100*acc))"
   ]
  },
  {
   "cell_type": "code",
   "execution_count": null,
   "id": "75b2ef73",
   "metadata": {
    "ExecuteTime": {
     "end_time": "2021-11-10T16:03:41.998587Z",
     "start_time": "2021-11-10T16:03:01.715038Z"
    }
   },
   "outputs": [],
   "source": [
    "index_256 = faiss.read_index(\"./kmeans_img_mnist_k2_s0_c256_sc_v0.index\")\n",
    "n_clusters_256=256\n",
    "patch_size = (2, 2)\n",
    "channel_count = 1\n",
    "repeat = 2\n",
    "location=False\n",
    "stride = 0\n",
    "acc = mnist_test_sym_acc(mnist_sc_model, 0, sym_mnist, n_clusters_256, index_256,  patch_size, stride, channel_count)\n",
    "print(\"Symbolic test accuracy (codebook 256):{}% \".format(100*acc))"
   ]
  },
  {
   "cell_type": "code",
   "execution_count": 13,
   "id": "b89277b4",
   "metadata": {
    "ExecuteTime": {
     "end_time": "2022-03-03T17:22:36.388860Z",
     "start_time": "2022-03-03T17:22:36.361588Z"
    }
   },
   "outputs": [
    {
     "name": "stdout",
     "output_type": "stream",
     "text": [
      "PyTorch 1.9.0+cu102\n",
      "Torchvision 0.10.0+cu102\n",
      "Torchattacks 3.2.0\n",
      "Numpy 1.19.5\n"
     ]
    }
   ],
   "source": [
    "import torchvision.utils\n",
    "from torchvision import models\n",
    "import torchattacks\n",
    "from torchattacks import *\n",
    "\n",
    "print(\"PyTorch\", torch.__version__)\n",
    "print(\"Torchvision\", torchvision.__version__)\n",
    "print(\"Torchattacks\", torchattacks.__version__)\n",
    "print(\"Numpy\", np.__version__)"
   ]
  },
  {
   "cell_type": "code",
   "execution_count": 14,
   "id": "f39cffda",
   "metadata": {
    "ExecuteTime": {
     "end_time": "2022-03-03T17:22:42.481134Z",
     "start_time": "2022-03-03T17:22:42.463513Z"
    }
   },
   "outputs": [],
   "source": [
    "class UnNormalize(object):\n",
    "    def __init__(self, mean, std):\n",
    "        self.mean = mean\n",
    "        self.std = std\n",
    "\n",
    "    def __call__(self, tensor):\n",
    "        \"\"\"\n",
    "        Args:\n",
    "            tensor (Tensor): Tensor image of size (C, H, W) to be normalized.\n",
    "        Returns:\n",
    "            Tensor: Normalized image.\n",
    "        \"\"\"\n",
    "        for t, m, s in zip(tensor, self.mean, self.std):\n",
    "            t.mul_(s).add_(m)\n",
    "            # The normalize code -> t.sub_(m).div_(s)\n",
    "        return tensor\n",
    "        \n",
    "        \n",
    "        \n",
    "        \n",
    "unorm = UnNormalize(mean=(0.1309), std=(0.2893))"
   ]
  },
  {
   "cell_type": "code",
   "execution_count": 15,
   "id": "ff1c865f",
   "metadata": {
    "ExecuteTime": {
     "end_time": "2022-03-03T17:22:51.121185Z",
     "start_time": "2022-03-03T17:22:51.095397Z"
    }
   },
   "outputs": [],
   "source": [
    " def plot_all(img, ttl, norm=False):\n",
    "    # create figure (fig), and array of axes (ax)\n",
    "    fig = plt.figure(figsize=(5, 2))\n",
    "    columns = 4\n",
    "    rows = 1\n",
    "    for i in range(1, columns*rows +1):\n",
    "        j = i-1\n",
    "        if norm:\n",
    "            norm_img = unorm(img[j])\n",
    "        else:\n",
    "            norm_img = img[j]\n",
    "        #npimg = norm_img.numpy()\n",
    "        npimg = norm_img\n",
    "        fig.add_subplot(rows, columns, i)\n",
    "        plt.imshow(npimg,  cmap=\"gray\")\n",
    "        # write title for identification\n",
    "        plt.rcParams.update({'font.size': 8})\n",
    "        plt.rcParams[\"font.weight\"] = \"bold\"\n",
    "        plt.title(ttl[j])\n",
    "        #axi.set_axis_off()\n",
    "        plt.axis('off')\n",
    "\n",
    "    plt.tight_layout(True)\n",
    "    plt.show()"
   ]
  },
  {
   "cell_type": "code",
   "execution_count": 16,
   "id": "6c69b03f",
   "metadata": {
    "ExecuteTime": {
     "end_time": "2022-03-03T17:24:01.350105Z",
     "start_time": "2022-03-03T17:24:01.337648Z"
    }
   },
   "outputs": [],
   "source": [
    "def viz_adversarial_attack(atk, model, index, n_clusters , num_try, sc,  norm=False):\n",
    "    counter = 0\n",
    "    correct_std = 0\n",
    "    correct_std_atk = 0\n",
    "    correct_sym = 0\n",
    "    correct_sym_atk = 0\n",
    "    total =0\n",
    "    plot_count = 500\n",
    "    patch_size = (2, 2)\n",
    "    centroid_lut = index.reconstruct_n(0, n_clusters)\n",
    "    for images, labels in testloader_subset:\n",
    "        if sc: \n",
    "            # Soft clamp image to make the attack effective\n",
    "            images_sc = softclamp01(images)\n",
    "        else:\n",
    "            images_sc = images\n",
    "        if counter > num_try:\n",
    "            break\n",
    "        #print(\"For image #\",counter)    \n",
    "        counter += 1\n",
    "        img_arr = []\n",
    "        ttl_arr = []\n",
    "        outputs_orig = model(images_sc)\n",
    "        _, pre_orig = torch.max(outputs_orig.data, 1)\n",
    "        if (pre_orig == labels): # We do further testing if the original model is right\n",
    "            images_std = images_sc\n",
    "            title_text = \"Orig: \"+str(classes[labels])\n",
    "            if counter % plot_count == 0:\n",
    "                plot_img = images_std.squeeze()\n",
    "                plot_img = images.squeeze()\n",
    "                img_arr.append(plot_img)\n",
    "                ttl_arr.append(title_text)\n",
    "            correct_std += (pre_orig == labels).sum()\n",
    "\n",
    "            \n",
    "            \n",
    "            # Symbolic inference\n",
    "            Xsym_ = sym_mnist(images_sc.squeeze(), n_clusters, index, centroid_lut, patch_size, stride, channel_count)\n",
    "            Xsym = torch.from_numpy(Xsym_)\n",
    "            Xsym = Xsym.unsqueeze(0)\n",
    "            outputs_sym = model.forward(Xsym.float())\n",
    "            _, pre_sym = torch.max(outputs_sym.data, 1)\n",
    "            if (pre_sym == labels):\n",
    "                correct_sym += (pre_sym == labels).sum()\n",
    "            if counter % plot_count == 0:    \n",
    "                plot_img = Xsym.float().squeeze()\n",
    "                img_arr.append(plot_img)\n",
    "                title_text = \"Sym: \"+str(classes[pre_sym])\n",
    "                ttl_arr.append(title_text)\n",
    "\n",
    "            \n",
    "            # Attack on vanila inference \n",
    "            adv_images = atk(images_sc, labels)\n",
    "            outputs_std = model(adv_images)\n",
    "            _, pre_std = torch.max(outputs_std.data, 1)\n",
    "            if (pre_std == labels):\n",
    "                correct_std_atk += (pre_std == labels).sum()\n",
    "            if counter % plot_count == 0:\n",
    "                plot_img_adv = adv_images.squeeze()\n",
    "                plot_img = plot_img_adv.data.cpu().numpy().copy()\n",
    "                img_arr.append(plot_img)\n",
    "                title_text = \"Orig (perturb) :\"+str(classes[pre_std])\n",
    "                ttl_arr.append(title_text)\n",
    "                \n",
    "            # Attack on symbolic inference \n",
    "            pfm = adv_images.data.cpu().numpy().copy()\n",
    "            # Re-classify the perturbed image\n",
    "            Xsym_ = sym_mnist(pfm.squeeze(), n_clusters, index, centroid_lut, patch_size, stride, channel_count)\n",
    "            Xsym = torch.from_numpy(Xsym_)\n",
    "            Xsym = Xsym.unsqueeze(0)\n",
    "            outputs_sym_atk = model.forward(Xsym.float())\n",
    "            _, pre_sym_atk = torch.max(outputs_sym_atk.data, 1)\n",
    "            if (pre_sym_atk == labels):\n",
    "                correct_sym_atk += (pre_sym_atk == labels).sum()\n",
    "            if counter % plot_count == 0:\n",
    "                plot_img = Xsym.float().squeeze()\n",
    "                img_arr.append(plot_img)\n",
    "                title_text = \"Sym (perturb):\"+str(classes[pre_sym_atk])\n",
    "                ttl_arr.append(title_text)\n",
    "            \n",
    "            if counter % plot_count == 0:\n",
    "                plot_all(img_arr, ttl_arr, norm) \n",
    "        total += 1\n",
    "            \n",
    "    print('Attack on model: {}'.format(atk))\n",
    "    print('Standard accuracy: %.2f %%' % (100 * float(correct_std) / total))\n",
    "    print('Symbolic accuracy: %.2f %%' % (100 * float(correct_sym) / total))\n",
    "    print('Attacked standard accuracy: %.2f %%' % (100 * float(correct_std_atk) / total))\n",
    "    print('Attacked Symbolic accuracy: %.2f %%' % (100 * float(correct_sym_atk) / total))    "
   ]
  },
  {
   "cell_type": "code",
   "execution_count": 17,
   "id": "2fcde84e",
   "metadata": {
    "ExecuteTime": {
     "end_time": "2022-03-03T17:24:04.122553Z",
     "start_time": "2022-03-03T17:24:04.083981Z"
    }
   },
   "outputs": [],
   "source": [
    "atks = [\n",
    "    FGSM(mnist_sc_model, eps=8/255),\n",
    "    BIM(mnist_sc_model, eps=8/255, alpha=2/255, steps=100),\n",
    "    RFGSM(mnist_sc_model, eps=8/255, alpha=2/255, steps=100),\n",
    "    CW(mnist_sc_model, c=1, lr=0.01, steps=100, kappa=0),\n",
    "    PGD(mnist_sc_model, eps=8/255, alpha=2/225, steps=100, random_start=True),\n",
    "    PGDL2(mnist_sc_model, eps=1, alpha=0.2, steps=100),\n",
    "    EOTPGD(mnist_sc_model, eps=8/255, alpha=2/255, steps=100, eot_iter=2),\n",
    "    FFGSM(mnist_sc_model, eps=8/255, alpha=10/255),\n",
    "    TPGD(mnist_sc_model, eps=8/255, alpha=2/255, steps=100),\n",
    "    MIFGSM(mnist_sc_model, eps=8/255, alpha=2/255, steps=100, decay=0.1),\n",
    "    VANILA(mnist_sc_model),\n",
    "    GN(mnist_sc_model, sigma=0.1),\n",
    "    APGD(mnist_sc_model, eps=8/255, steps=100, eot_iter=1, n_restarts=1, loss='ce'),\n",
    "    APGD(mnist_sc_model, eps=8/255, steps=100, eot_iter=1, n_restarts=1, loss='dlr'),\n",
    "    APGDT(mnist_sc_model, eps=8/255, steps=100, eot_iter=1, n_restarts=1),\n",
    "    FAB(mnist_sc_model, eps=8/255, steps=100, n_classes=10, n_restarts=1, targeted=False),\n",
    "    FAB(mnist_sc_model, eps=8/255, steps=100, n_classes=10, n_restarts=1, targeted=True),\n",
    "    Square(mnist_sc_model, eps=8/255, n_queries=5000, n_restarts=1, loss='ce'),\n",
    "    AutoAttack(mnist_sc_model, eps=8/255, n_classes=10, version='standard'),\n",
    "    OnePixel(mnist_sc_model, pixels=5, inf_batch=50),\n",
    "    DeepFool(mnist_sc_model, steps=100),\n",
    "    DIFGSM(mnist_sc_model, eps=8/255, alpha=2/255, steps=100, diversity_prob=0.5, resize_rate=0.9)\n",
    "]"
   ]
  },
  {
   "cell_type": "code",
   "execution_count": 18,
   "id": "5eadb14a",
   "metadata": {
    "ExecuteTime": {
     "end_time": "2022-03-03T17:24:21.860189Z",
     "start_time": "2022-03-03T17:24:16.089107Z"
    }
   },
   "outputs": [
    {
     "data": {
      "image/png": "[encoded data removed]",
      "text/plain": [
       "<Figure size 600x240 with 4 Axes>"
      ]
     },
     "metadata": {
      "needs_background": "light"
     },
     "output_type": "display_data"
    },
    {
     "data": {
      "image/png": "[encoded data removed]",
      "text/plain": [
       "<Figure size 600x240 with 4 Axes>"
      ]
     },
     "metadata": {
      "needs_background": "light"
     },
     "output_type": "display_data"
    },
    {
     "data": {
      "image/png": "[encoded data removed]",
      "text/plain": [
       "<Figure size 600x240 with 4 Axes>"
      ]
     },
     "metadata": {
      "needs_background": "light"
     },
     "output_type": "display_data"
    },
    {
     "data": {
      "image/png": "[encoded data removed]",
      "text/plain": [
       "<Figure size 600x240 with 4 Axes>"
      ]
     },
     "metadata": {
      "needs_background": "light"
     },
     "output_type": "display_data"
    },
    {
     "name": "stdout",
     "output_type": "stream",
     "text": [
      "Attack on model: EOTPGD(model_name=CNN_LeNet, device=cpu, eps=0.03137254901960784, alpha=0.00784313725490196, steps=100, eot_iter=2, random_start=True, attack_mode=default, return_type=float)\n",
      "Standard accuracy: 100.00 %\n",
      "Symbolic accuracy: 100.00 %\n",
      "Attacked standard accuracy: 100.00 %\n",
      "Attacked Symbolic accuracy: 100.00 %\n"
     ]
    }
   ],
   "source": [
    "# Lets choose one attack. How about EOTPGD? doesnt take much time. Will also try longer ones - Autoattck.\n",
    "attack_name_level = EOTPGD(mnist_sc_model, eps=8/255, alpha=2/255, steps=100, eot_iter=2)\n",
    "viz_adversarial_attack(attack_name_level, mnist_sc_model, index_32, n_clusters_32, 2000,  True,  norm=False)"
   ]
  },
  {
   "cell_type": "code",
   "execution_count": null,
   "id": "50051c4a",
   "metadata": {
    "ExecuteTime": {
     "end_time": "2021-11-10T17:23:23.913585Z",
     "start_time": "2021-11-10T17:15:03.593664Z"
    }
   },
   "outputs": [],
   "source": [
    "# Lets choose one attack. How about EOTPGD? doesnt take much time. Will also try longer ones - Autoattck.\n",
    "attack_name_level = EOTPGD(mnist_sc_model, eps=8/255, alpha=2/255, steps=100, eot_iter=2)\n",
    "viz_adversarial_attack(attack_name_level, mnist_sc_model, index_64, n_clusters_64, 2000,  True,  norm=False)"
   ]
  },
  {
   "cell_type": "code",
   "execution_count": null,
   "id": "589927cf",
   "metadata": {
    "ExecuteTime": {
     "end_time": "2021-11-10T17:53:15.092879Z",
     "start_time": "2021-11-10T17:45:02.518798Z"
    }
   },
   "outputs": [],
   "source": [
    "# Lets choose one attack. How about EOTPGD? doesnt take much time. Will also try longer ones - Autoattck.\n",
    "attack_name_level = EOTPGD(mnist_sc_model, eps=8/255, alpha=2/255, steps=100, eot_iter=2)\n",
    "viz_adversarial_attack(attack_name_level, mnist_sc_model, index_128, n_clusters_128, 2000,  True,  norm=False)"
   ]
  },
  {
   "cell_type": "code",
   "execution_count": null,
   "id": "bf7206f9",
   "metadata": {
    "ExecuteTime": {
     "end_time": "2021-11-10T18:05:36.602619Z",
     "start_time": "2021-11-10T17:57:25.943896Z"
    }
   },
   "outputs": [],
   "source": [
    "# Lets choose one attack. How about EOTPGD? doesnt take much time. Will also try longer ones - Autoattck.\n",
    "attack_name_level = EOTPGD(mnist_sc_model, eps=8/255, alpha=2/255, steps=100, eot_iter=2)\n",
    "viz_adversarial_attack(attack_name_level, mnist_sc_model, index_256, n_clusters_256, 2000,  True,  norm=False)"
   ]
  },
  {
   "cell_type": "code",
   "execution_count": null,
   "id": "8bd9dc27",
   "metadata": {
    "ExecuteTime": {
     "end_time": "2021-11-10T19:35:55.289172Z",
     "start_time": "2021-11-10T18:25:27.510474Z"
    }
   },
   "outputs": [],
   "source": [
    "# Lets choose one attack. How about EOTPGD? doesnt take much time. Will also try longer ones - Autoattck.\n",
    "attack_name_level = EOTPGD(mnist_sc_model, eps=16/255, alpha=2/255, steps=100, eot_iter=2)\n",
    "viz_adversarial_attack(attack_name_level, mnist_sc_model, index_32, n_clusters_32, 2000,  True,  norm=False)\n",
    "viz_adversarial_attack(attack_name_level, mnist_sc_model, index_64, n_clusters_64, 2000,  True,  norm=False)\n",
    "viz_adversarial_attack(attack_name_level, mnist_sc_model, index_128, n_clusters_128, 2000,  True,  norm=False)\n",
    "viz_adversarial_attack(attack_name_level, mnist_sc_model, index_256, n_clusters_256, 2000,  True,  norm=False)\n",
    "\n",
    "attack_name_level = EOTPGD(mnist_sc_model, eps=32/255, alpha=2/255, steps=100, eot_iter=2)\n",
    "viz_adversarial_attack(attack_name_level, mnist_sc_model, index_32, n_clusters_32, 2000,  True,  norm=False)\n",
    "viz_adversarial_attack(attack_name_level, mnist_sc_model, index_64, n_clusters_64, 2000,  True,  norm=False)\n",
    "viz_adversarial_attack(attack_name_level, mnist_sc_model, index_128, n_clusters_128, 2000,  True,  norm=False)\n",
    "viz_adversarial_attack(attack_name_level, mnist_sc_model, index_256, n_clusters_256, 2000,  True,  norm=False)"
   ]
  },
  {
   "cell_type": "code",
   "execution_count": null,
   "id": "ad5104b0",
   "metadata": {
    "ExecuteTime": {
     "end_time": "2021-11-11T17:35:12.391223Z",
     "start_time": "2021-11-11T17:35:10.727587Z"
    }
   },
   "outputs": [],
   "source": [
    "# Small hack in Jupyter\n",
    "plt.rcParams['figure.figsize'] = [6,4]\n",
    "plt.rcParams['figure.dpi'] = 120 # 200 e.g. is really fine, but slower\n",
    "plt.rcParams.update({'font.size': 14})\n",
    "N = 3\n",
    "ind = np.arange(N)\n",
    "labels = ('8/255', '16/255', '32/255')\n",
    "\n",
    "c_32 =    (98.4, 93.25, 73.85)\n",
    "c_64 =    (98.05, 93.75, 69.10)\n",
    "c_128 =    (97.55, 93.15, 68.50)\n",
    "c_256 =    (97.85, 93.00, 63.35)\n",
    "c_std =    (95.75, 85.80 ,29.60)\n",
    "\n",
    "fig = plt.figure()\n",
    "ax = fig.add_subplot(111)\n",
    "rects1 = ax.plot(ind, c_32, linestyle=\":\", alpha=0.7, color='darkblue')\n",
    "rects2 = ax.plot(ind, c_64, linewidth=\"4\", linestyle=\"-.\", color='red',  alpha=0.9)\n",
    "rects3 = ax.plot(ind, c_128, linestyle=\"-\",  color='black')\n",
    "rects4 = ax.plot(ind, c_256, linewidth=\"4\", linestyle=\"--\", color='lightcoral',  alpha=0.9)\n",
    "rects5 = ax.plot(ind, c_std, color='yellow',  alpha=0.9)\n",
    "\n",
    "\n",
    "\n",
    "# add some\n",
    "ax.set_ylabel('Accuracy', fontsize=16)\n",
    "ax.set_xlabel('Attack strength: maximum change per pixel', fontsize=16)\n",
    "ax.set_xticks(ind)\n",
    "ax.set_xticklabels(labels,  fontsize=14)\n",
    "ax.legend( (rects1[0], rects2[0], rects3[0], rects4[0], rects5[0]), ('Symbols:32', 'Symbols:64', 'Symbols:128', 'Symbols:256' , 'Non-symbolic'),loc='upper center', bbox_to_anchor=(0.3, 0.6))\n",
    "plt.tight_layout()    \n",
    "#plt.show()\n",
    "plt.savefig('../strength_accuracy_symbols_mnist.png', format='png', dpi=1000)"
   ]
  }
 ],
 "metadata": {
  "kernelspec": {
   "display_name": "Python 3",
   "language": "python",
   "name": "python3"
  },
  "language_info": {
   "codemirror_mode": {
    "name": "ipython",
    "version": 3
   },
   "file_extension": ".py",
   "mimetype": "text/x-python",
   "name": "python",
   "nbconvert_exporter": "python",
   "pygments_lexer": "ipython3",
   "version": "3.8.10"
  },
  "latex_envs": {
   "LaTeX_envs_menu_present": true,
   "autoclose": false,
   "autocomplete": true,
   "bibliofile": "biblio.bib",
   "cite_by": "apalike",
   "current_citInitial": 1,
   "eqLabelWithNumbers": true,
   "eqNumInitial": 1,
   "hotkeys": {
    "equation": "Ctrl-E",
    "itemize": "Ctrl-I"
   },
   "labels_anchors": false,
   "latex_user_defs": false,
   "report_style_numbering": false,
   "user_envs_cfg": false
  },
  "varInspector": {
   "cols": {
    "lenName": 16,
    "lenType": 16,
    "lenVar": 40
   },
   "kernels_config": {
    "python": {
     "delete_cmd_postfix": "",
     "delete_cmd_prefix": "del ",
     "library": "var_list.py",
     "varRefreshCmd": "print(var_dic_list())"
    },
    "r": {
     "delete_cmd_postfix": ") ",
     "delete_cmd_prefix": "rm(",
     "library": "var_list.r",
     "varRefreshCmd": "cat(var_dic_list()) "
    }
   },
   "types_to_exclude": [
    "module",
    "function",
    "builtin_function_or_method",
    "instance",
    "_Feature"
   ],
   "window_display": false
  }
 },
 "nbformat": 4,
 "nbformat_minor": 5
}
