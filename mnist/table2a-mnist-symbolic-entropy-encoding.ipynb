{
 "cells": [
  {
   "cell_type": "code",
   "execution_count": 12,
   "metadata": {
    "ExecuteTime": {
     "end_time": "2022-03-03T17:42:58.541811Z",
     "start_time": "2022-03-03T17:42:58.529592Z"
    }
   },
   "outputs": [],
   "source": [
    "import torch\n",
    "import random\n",
    "import torchvision\n",
    "from torchvision import datasets, transforms\n",
    "import torch.nn as nn\n",
    "import torch.nn.functional as F\n",
    "from scipy.stats import norm\n",
    "import matplotlib.pyplot as plt\n",
    "import numpy as np\n",
    "import huffman\n",
    "import math\n",
    "import faiss\n",
    "import sys\n",
    "torch.manual_seed(0)\n",
    "np.random.seed(0)\n",
    "random.seed(0)\n",
    "import warnings\n",
    "warnings.filterwarnings('ignore')\n",
    "sys.path.insert(1, '../core')\n",
    "from patchutils import symdnn_purify, fm_to_symbolic_fm as sym_mnist"
   ]
  },
  {
   "cell_type": "markdown",
   "metadata": {},
   "source": [
    "# MNIST Experiments: Size reduction through Huffman coding\n"
   ]
  },
  {
   "cell_type": "code",
   "execution_count": 5,
   "metadata": {
    "ExecuteTime": {
     "end_time": "2022-03-03T17:36:56.260899Z",
     "start_time": "2022-03-03T17:36:56.237073Z"
    }
   },
   "outputs": [],
   "source": [
    "def plot_pdf_distribution(pdf):\n",
    "    print(len(pdf))\n",
    "    plt.rcParams['figure.figsize'] = [4,3]\n",
    "    plt.rcParams['figure.dpi'] = 120 # 200 e.g. is really fine, but slower\n",
    "    plt.rcParams.update({'font.size': 10})\n",
    "    # plt.ticklabel_format(axis='x', style=\"sci\", scilimits=(0,0), useOffset=False)\n",
    "    # plt.hist(imagenet_pdf2048, bins=25, alpha=0.75, rwidth=0.75)\n",
    "    # plt.gca().set(ylabel='# of centroids in that bin', xlabel='# of centroids in a bin is hit', xscale='log', autoscale_on=True);\n",
    "    plt.ticklabel_format(style='plain')\n",
    "    plt.hist(pdf, bins=25, alpha=0.75, rwidth=0.75) #, log=True)\n",
    "    plt.gca().set(ylabel='# of centroids in that bin', xlabel='# of times centroids in a bin is hit');"
   ]
  },
  {
   "cell_type": "code",
   "execution_count": 6,
   "metadata": {
    "ExecuteTime": {
     "end_time": "2022-03-03T17:36:59.380263Z",
     "start_time": "2022-03-03T17:36:59.362566Z"
    }
   },
   "outputs": [],
   "source": [
    "def plot_data_savings(pdf,n_clusters):\n",
    "    # create the dictionary\n",
    "    freq_dict = []\n",
    "    for i in range(n_clusters):\n",
    "        freq_dict.append((i, pdf[i]))\n",
    "    code_book = huffman.codebook(freq_dict)   \n",
    "\n",
    "    code_book_dist = np.zeros((n_clusters,),dtype=np.int)\n",
    "    for j in range(n_clusters):\n",
    "        code_book_dist[j]=len(code_book[j])\n",
    "\n",
    "    plt.rcParams['figure.figsize'] = [3,3]\n",
    "    plt.rcParams['figure.dpi'] = 120 # 200 e.g. is really fine, but slower\n",
    "    plt.rcParams.update({'font.size': 10})\n",
    "    plt.ticklabel_format(style='plain')\n",
    "    plt.hist(code_book_dist, bins=6, alpha=0.75, rwidth=0.75)\n",
    "    plt.gca().set(ylabel='# of symbols in that bin', xlabel='bins of bits per symbol');    \n",
    "\n",
    "    base_bits = (math.log10(n_clusters) / math.log10(2))\n",
    "    print(base_bits)\n",
    "\n",
    "    # with no encoding, 11 bits needed to encode 2048 symbols\n",
    "    total_non_encoded = 0\n",
    "    for i in range(n_clusters):\n",
    "        total_non_encoded += pdf[i]*base_bits\n",
    "\n",
    "    total_encoded = 0\n",
    "    for i in range(n_clusters):\n",
    "        total_encoded += pdf[i]*code_book_dist[i]\n",
    "    return 100*(1 - total_encoded/total_non_encoded)"
   ]
  },
  {
   "cell_type": "code",
   "execution_count": 7,
   "metadata": {
    "ExecuteTime": {
     "end_time": "2022-03-03T17:37:02.337709Z",
     "start_time": "2022-03-03T17:37:02.284605Z"
    }
   },
   "outputs": [
    {
     "data": {
      "text/plain": [
       "CNN_LeNet(\n",
       "  (conv1): Conv2d(1, 6, kernel_size=(5, 5), stride=(1, 1))\n",
       "  (pool1): MaxPool2d(kernel_size=2, stride=2, padding=0, dilation=1, ceil_mode=False)\n",
       "  (conv2): Conv2d(6, 16, kernel_size=(5, 5), stride=(1, 1))\n",
       "  (pool2): MaxPool2d(kernel_size=2, stride=2, padding=0, dilation=1, ceil_mode=False)\n",
       "  (fc1): Linear(in_features=400, out_features=120, bias=True)\n",
       "  (fc2): Linear(in_features=120, out_features=84, bias=True)\n",
       "  (fc3): Linear(in_features=84, out_features=10, bias=True)\n",
       ")"
      ]
     },
     "execution_count": 7,
     "metadata": {},
     "output_type": "execute_result"
    }
   ],
   "source": [
    "# Basic definitions for MNIST inference\n",
    "\n",
    "#  From my training code\n",
    "random_seed = 1 \n",
    "\n",
    "\n",
    "torch.manual_seed(0)\n",
    "np.random.seed(0)\n",
    "random.seed(0)\n",
    "apply_transform = transforms.Compose([transforms.Resize(32),transforms.ToTensor(),\n",
    "                                      transforms.Normalize((0.1309,), (0.2893,))])\n",
    "# Change the dataset folder to the proper location in a new system\n",
    "testset = datasets.MNIST(root='../../../dataset', train=False, download=True, transform=apply_transform)\n",
    "testloader = torch.utils.data.DataLoader(testset, batch_size=1, shuffle=False)\n",
    "testloader2 = torch.utils.data.DataLoader(testset, batch_size=1, shuffle=False)\n",
    "\n",
    "class CNN_LeNet(nn.Module):\n",
    "    def __init__(self):\n",
    "        super(CNN_LeNet, self).__init__()\n",
    "        # Define the net structure\n",
    "        # This is the input layer first Convolution\n",
    "        self.conv1 = nn.Conv2d(1, 6, kernel_size=5)\n",
    "        self.pool1 = nn.MaxPool2d(kernel_size=2,stride=2)\n",
    "        self.conv2 = nn.Conv2d(6, 16, kernel_size=5)\n",
    "        self.pool2 = nn.MaxPool2d(kernel_size=2,stride=2)\n",
    "        self.fc1 = nn.Linear(400,120)\n",
    "        self.fc2 = nn.Linear(120,84)\n",
    "        self.fc3 = nn.Linear(84, 10) \n",
    "    \n",
    "    def forward(self, x): \n",
    "        x = F.relu(self.conv1(x))\n",
    "        x = self.pool1(x)\n",
    "        x = F.relu(self.conv2(x))\n",
    "        x = self.pool2(x)\n",
    "        x = x.view(-1, 400)\n",
    "        x = F.relu(self.fc1(x))\n",
    "        x = F.relu(self.fc2(x))\n",
    "        x = self.fc3(x)\n",
    "        x = F.softmax(x,dim=1)\n",
    "        return x\n",
    "pretrained_model = \"./mnist_v0.pt\"\n",
    "mnist_model = CNN_LeNet() \n",
    "mnist_model.load_state_dict(torch.load(pretrained_model))\n",
    "num_class = 10\n",
    "mnist_model.eval()"
   ]
  },
  {
   "cell_type": "code",
   "execution_count": 8,
   "metadata": {
    "ExecuteTime": {
     "end_time": "2022-03-03T17:37:06.994277Z",
     "start_time": "2022-03-03T17:37:06.978825Z"
    }
   },
   "outputs": [],
   "source": [
    "# Lets check the kind of prediction the model is doing - the standard non symbolic infrence\n",
    "def mnist_test_base_acc(model):\n",
    "    correct = 0\n",
    "    total = 0\n",
    "    model.eval()\n",
    "    with torch.no_grad():\n",
    "        for testdata in testloader:\n",
    "            X, y = testdata\n",
    "            output = model.forward(X)\n",
    "            init_pred = output.max(1, keepdim=True)[1] # get the index of the max log-probability\n",
    "            # If the initial prediction is wrong, dont bother attacking, just move on\n",
    "            if init_pred.item() == y.item():\n",
    "                #print(\"correct\")\n",
    "                correct += 1\n",
    "            total += 1    \n",
    "    return 100*round(correct/total, 4)"
   ]
  },
  {
   "cell_type": "code",
   "execution_count": 11,
   "metadata": {
    "ExecuteTime": {
     "end_time": "2022-03-03T17:42:22.889096Z",
     "start_time": "2022-03-03T17:42:22.864268Z"
    }
   },
   "outputs": [],
   "source": [
    "# Test accuracy of symbolic inference\n",
    "def mnist_test_sym_acc(model,sym_mnist,n_clusters, index,  patch_size, stride, channel_count, instr=False):\n",
    "    correct = 0 \n",
    "    total = 0 \n",
    "    centroid_lut = index.reconstruct_n(0, n_clusters)\n",
    "    if instr:\n",
    "        pdf = np.zeros((n_clusters,), dtype=int)\n",
    "    model.eval()\n",
    "    with torch.no_grad():\n",
    "        for data in testloader:\n",
    "            X, y = data\n",
    "            if instr:\n",
    "                Xsym_, pdf = sym_mnist(X.squeeze(), n_clusters, index, centroid_lut,  patch_size, stride, channel_count, ana=False, multi=False, instr=True, randomize=False, rlevel=None, rbalance=True, pdf=pdf)\n",
    "            else:\n",
    "                Xsym_ = sym_mnist(X.squeeze(), n_clusters, index, centroid_lut, patch_size, stride, channel_count, ana=False, multi=False, instr=False, randomize=False, rlevel=None, rbalance=True, pdf=None)\n",
    "            Xsym = torch.from_numpy(Xsym_)\n",
    "            Xsym = Xsym.unsqueeze(0)\n",
    "            output = model.forward(Xsym.float())\n",
    "            for idx, i in enumerate(output):\n",
    "                if torch.argmax(i) == y[idx]:\n",
    "                    correct += 1\n",
    "                total += 1\n",
    "    if instr:\n",
    "        return round(correct/total, 4), pdf\n",
    "    else:\n",
    "        return round(correct/total, 4)"
   ]
  },
  {
   "cell_type": "code",
   "execution_count": 13,
   "metadata": {
    "ExecuteTime": {
     "end_time": "2021-11-08T04:46:22.613025Z",
     "start_time": "2021-11-08T04:46:16.469882Z"
    }
   },
   "outputs": [
    {
     "name": "stdout",
     "output_type": "stream",
     "text": [
      "Non Symbolic test accuracy:99.03% \n"
     ]
    }
   ],
   "source": [
    "# Standard non symbolic inference\n",
    "acc = mnist_test_base_acc(mnist_model)\n",
    "print(\"Non Symbolic test accuracy:{}% \".format(acc))"
   ]
  },
  {
   "cell_type": "code",
   "execution_count": 13,
   "metadata": {
    "ExecuteTime": {
     "end_time": "2022-03-03T17:43:45.510949Z",
     "start_time": "2022-03-03T17:43:10.661851Z"
    }
   },
   "outputs": [
    {
     "name": "stdout",
     "output_type": "stream",
     "text": [
      "Symbolic test accuracy (codebook 512):99.02% \n"
     ]
    }
   ],
   "source": [
    "# Load the different codebooks & perform symbolic inference\n",
    "# Start with 512\n",
    "index = faiss.read_index(\"./kmeans_img_mnist_k2_s0_c512_v0.index\")\n",
    "n_clusters=512\n",
    "patch_size = (2, 2)\n",
    "channel_count = 1\n",
    "repeat = 2\n",
    "location=False\n",
    "stride = 0\n",
    "acc = mnist_test_sym_acc(mnist_model, sym_mnist, n_clusters, index,  patch_size, stride, channel_count)\n",
    "print(\"Symbolic test accuracy (codebook 512):{}% \".format(100*acc))"
   ]
  },
  {
   "cell_type": "code",
   "execution_count": 15,
   "metadata": {
    "ExecuteTime": {
     "end_time": "2022-03-03T17:45:23.295691Z",
     "start_time": "2022-03-03T17:44:46.944024Z"
    }
   },
   "outputs": [
    {
     "name": "stdout",
     "output_type": "stream",
     "text": [
      "Symbolic test accuracy (codebook 512):99.02% \n",
      "512\n",
      "9.0\n",
      "Savings in storage for MNIST (10k) testset (codebook: 512 symbols): 58.10%\n"
     ]
    },
    {
     "data": {
      "image/png": "[encoded data removed]",
      "text/plain": [
       "<Figure size 480x360 with 1 Axes>"
      ]
     },
     "metadata": {
      "needs_background": "light"
     },
     "output_type": "display_data"
    }
   ],
   "source": [
    "#Lets Check data savings with huffman encoding of the symbols using 512 symbol codebook\n",
    "index = faiss.read_index(\"./kmeans_img_mnist_k2_s0_c512_v0.index\")\n",
    "n_clusters=512\n",
    "acc, pdf = mnist_test_sym_acc(mnist_model, sym_mnist, n_clusters, index,  patch_size, stride, channel_count, instr=True)\n",
    "print(\"Symbolic test accuracy (codebook 512):{}% \".format(100*acc))\n",
    "plot_pdf_distribution(pdf)\n",
    "savings = plot_data_savings(pdf,n_clusters)\n",
    "print(\"Savings in storage for MNIST (10k) testset (codebook: 512 symbols): {:.2f}%\".format(savings))    "
   ]
  },
  {
   "cell_type": "code",
   "execution_count": 18,
   "metadata": {
    "ExecuteTime": {
     "end_time": "2021-11-08T04:54:45.849877Z",
     "start_time": "2021-11-08T04:54:12.003091Z"
    }
   },
   "outputs": [
    {
     "name": "stdout",
     "output_type": "stream",
     "text": [
      "Symbolic test accuracy (codebook 256):99.1% \n"
     ]
    }
   ],
   "source": [
    "# Now with 256\n",
    "index = faiss.read_index(\"./kmeans_img_mnist_k2_s0_c256_v0.index\")\n",
    "n_clusters=256\n",
    "acc = mnist_test_sym_acc(mnist_model, sym_mnist , n_clusters, index,  patch_size, stride, channel_count)\n",
    "print(\"Symbolic test accuracy (codebook 256):{}% \".format(100*acc))"
   ]
  },
  {
   "cell_type": "code",
   "execution_count": 20,
   "metadata": {
    "ExecuteTime": {
     "end_time": "2021-11-08T04:57:04.876245Z",
     "start_time": "2021-11-08T04:56:30.727839Z"
    }
   },
   "outputs": [
    {
     "name": "stdout",
     "output_type": "stream",
     "text": [
      "Symbolic test accuracy (codebook 128):99.06% \n"
     ]
    }
   ],
   "source": [
    "# Now with 128\n",
    "index = faiss.read_index(\"./kmeans_img_mnist_k2_s0_c128_v0.index\")\n",
    "n_clusters=128\n",
    "acc = mnist_test_sym_acc(mnist_model, sym_mnist, n_clusters, index,  patch_size, stride, channel_count)\n",
    "print(\"Symbolic test accuracy (codebook 128):{}% \".format(100*acc))"
   ]
  },
  {
   "cell_type": "code",
   "execution_count": 8,
   "metadata": {
    "ExecuteTime": {
     "end_time": "2021-11-20T13:04:07.076845Z",
     "start_time": "2021-11-20T13:03:10.665731Z"
    }
   },
   "outputs": [
    {
     "name": "stdout",
     "output_type": "stream",
     "text": [
      "Symbolic test accuracy (codebook 128):99.06% \n",
      "128\n",
      "7.0\n",
      "Savings in storage for MNIST (10k) testset (codebook: 128 symbols): 56.47%\n"
     ]
    },
    {
     "data": {
      "image/png": "[encoded data removed]",
      "text/plain": [
       "<Figure size 480x360 with 1 Axes>"
      ]
     },
     "metadata": {
      "needs_background": "light"
     },
     "output_type": "display_data"
    }
   ],
   "source": [
    "#Lets Check data savings with huffman encoding of the symbols using 128 symbol codebook\n",
    "from  patchutils_mnist import  fm_to_symbolic_fm_instr as sym_mnist_instr\n",
    "index = faiss.read_index(\"./kmeans_img_mnist_k2_s0_c128_v0.index\")\n",
    "n_clusters=128\n",
    "acc, pdf = mnist_test_sym_acc(mnist_model, sym_mnist_instr , n_clusters, index,  patch_size, stride, channel_count, instr=True)\n",
    "print(\"Symbolic test accuracy (codebook 128):{}% \".format(100*acc))\n",
    "plot_pdf_distribution(pdf)\n",
    "savings = plot_data_savings(pdf,n_clusters)\n",
    "print(\"Savings in storage for MNIST (10k) testset (codebook: 128 symbols): {:.2f}%\".format(savings))    "
   ]
  },
  {
   "cell_type": "code",
   "execution_count": 17,
   "metadata": {
    "ExecuteTime": {
     "end_time": "2021-10-04T12:41:00.749357Z",
     "start_time": "2021-10-04T12:40:09.499802Z"
    }
   },
   "outputs": [
    {
     "name": "stdout",
     "output_type": "stream",
     "text": [
      "Symbolic test accuracy (codebook 64):99.02% \n"
     ]
    }
   ],
   "source": [
    "# Now with 64\n",
    "index = faiss.read_index(\"./mnist/kmeans_img_mnist_k2_s0_c64_v0.index\")\n",
    "n_clusters=64\n",
    "acc = mnist_test_sym_acc(mnist_model, sym_mnist , n_clusters, index,  patch_size, stride, channel_count)\n",
    "print(\"Symbolic test accuracy (codebook 64):{}% \".format(100*acc))"
   ]
  },
  {
   "cell_type": "code",
   "execution_count": 22,
   "metadata": {
    "ExecuteTime": {
     "end_time": "2021-11-08T05:03:10.388987Z",
     "start_time": "2021-11-08T05:02:37.666107Z"
    }
   },
   "outputs": [
    {
     "name": "stdout",
     "output_type": "stream",
     "text": [
      "Symbolic test accuracy (codebook 64):99.02% \n",
      "64\n",
      "6.0\n",
      "Savings in storage for MNIST (10k) testset (codebook: 64 symbols): 56.10%\n"
     ]
    },
    {
     "data": {
      "image/png": "[encoded data removed]",
      "text/plain": [
       "<Figure size 480x360 with 1 Axes>"
      ]
     },
     "metadata": {
      "needs_background": "light"
     },
     "output_type": "display_data"
    }
   ],
   "source": [
    "#Lets Check data savings with huffman encoding of the symbols using 64 symbol codebook\n",
    "from  patchutils_mnist import  fm_to_symbolic_fm_instr as sym_mnist_instr\n",
    "index = faiss.read_index(\"./kmeans_img_mnist_k2_s0_c64_v0.index\")\n",
    "n_clusters=64\n",
    "acc, pdf = mnist_test_sym_acc(mnist_model, sym_mnist_instr , n_clusters, index,  patch_size, stride, channel_count, instr=True)\n",
    "print(\"Symbolic test accuracy (codebook 64):{}% \".format(100*acc))\n",
    "plot_pdf_distribution(pdf)\n",
    "savings = plot_data_savings(pdf,n_clusters)\n",
    "print(\"Savings in storage for MNIST (10k) testset (codebook: 64 symbols): {:.2f}%\".format(savings))    "
   ]
  },
  {
   "cell_type": "code",
   "execution_count": 12,
   "metadata": {
    "ExecuteTime": {
     "end_time": "2021-10-04T13:03:28.064933Z",
     "start_time": "2021-10-04T13:02:38.534555Z"
    }
   },
   "outputs": [
    {
     "name": "stdout",
     "output_type": "stream",
     "text": [
      "Symbolic test accuracy (codebook 32):99.1% \n"
     ]
    }
   ],
   "source": [
    "# Now with 32\n",
    "index = faiss.read_index(\"./mnist/kmeans_img_mnist_k2_s0_c32_v0.index\")\n",
    "n_clusters=32\n",
    "acc = mnist_test_sym_acc(mnist_model, sym_mnist , n_clusters, index,  patch_size, stride, channel_count)\n",
    "print(\"Symbolic test accuracy (codebook 32):{}% \".format(100*acc))"
   ]
  },
  {
   "cell_type": "code",
   "execution_count": 16,
   "metadata": {
    "ExecuteTime": {
     "end_time": "2021-10-04T13:17:59.016786Z",
     "start_time": "2021-10-04T13:17:02.720360Z"
    }
   },
   "outputs": [
    {
     "name": "stdout",
     "output_type": "stream",
     "text": [
      "Symbolic test accuracy (codebook 32):99.1% \n",
      "32\n",
      "5.0\n",
      "Savings in storage for MNIST (10k) testset: 55.00%\n"
     ]
    },
    {
     "data": {
      "image/png": "[encoded data removed]",
      "text/plain": [
       "<Figure size 480x360 with 1 Axes>"
      ]
     },
     "metadata": {
      "needs_background": "light"
     },
     "output_type": "display_data"
    }
   ],
   "source": [
    "#Lets Check data savings with huffman encoding of the symbols using 32 symbol codebook\n",
    "from  patchutils_mnist import  fm_to_symbolic_fm_instr as sym_mnist_instr\n",
    "index = faiss.read_index(\"./mnist/kmeans_img_mnist_k2_s0_c32_v0.index\")\n",
    "n_clusters=32\n",
    "acc, pdf = mnist_test_sym_acc(mnist_model, sym_mnist_instr , n_clusters, index,  patch_size, stride, channel_count, instr=True)\n",
    "print(\"Symbolic test accuracy (codebook 32):{}% \".format(100*acc))\n",
    "plot_pdf_distribution(pdf)\n",
    "savings = plot_data_savings(pdf,n_clusters)\n",
    "print(\"Savings in storage for MNIST (10k) testset (codebook: 32 symbols): {:.2f}%\".format(savings))    "
   ]
  },
  {
   "cell_type": "code",
   "execution_count": 17,
   "metadata": {
    "ExecuteTime": {
     "end_time": "2021-10-04T13:19:25.429426Z",
     "start_time": "2021-10-04T13:18:27.846722Z"
    }
   },
   "outputs": [
    {
     "name": "stdout",
     "output_type": "stream",
     "text": [
      "Symbolic test accuracy (codebook 32):99.1% \n",
      "256\n",
      "8.0\n",
      "Savings in storage for MNIST (10k) testset (codebook: 256 symbols): 56.95%\n"
     ]
    },
    {
     "data": {
      "image/png": "[encoded data removed]",
      "text/plain": [
       "<Figure size 480x360 with 1 Axes>"
      ]
     },
     "metadata": {
      "needs_background": "light"
     },
     "output_type": "display_data"
    }
   ],
   "source": [
    "#Lets Check data savings with huffman encoding of the symbols using 256 symbol codebook\n",
    "from  patchutils_mnist import  fm_to_symbolic_fm_instr as sym_mnist_instr\n",
    "index = faiss.read_index(\"./mnist/kmeans_img_mnist_k2_s0_c256_v0.index\")\n",
    "n_clusters=256\n",
    "acc, pdf = mnist_test_sym_acc(mnist_model, sym_mnist_instr , n_clusters, index,  patch_size, stride, channel_count, instr=True)\n",
    "print(\"Symbolic test accuracy (codebook 32):{}% \".format(100*acc))\n",
    "plot_pdf_distribution(pdf)\n",
    "savings = plot_data_savings(pdf,n_clusters)\n",
    "print(\"Savings in storage for MNIST (10k) testset (codebook: 256 symbols): {:.2f}%\".format(savings))    "
   ]
  }
 ],
 "metadata": {
  "kernelspec": {
   "display_name": "Python 3",
   "language": "python",
   "name": "python3"
  },
  "language_info": {
   "codemirror_mode": {
    "name": "ipython",
    "version": 3
   },
   "file_extension": ".py",
   "mimetype": "text/x-python",
   "name": "python",
   "nbconvert_exporter": "python",
   "pygments_lexer": "ipython3",
   "version": "3.8.10"
  },
  "latex_envs": {
   "LaTeX_envs_menu_present": true,
   "autoclose": false,
   "autocomplete": true,
   "bibliofile": "biblio.bib",
   "cite_by": "apalike",
   "current_citInitial": 1,
   "eqLabelWithNumbers": true,
   "eqNumInitial": 1,
   "hotkeys": {
    "equation": "Ctrl-E",
    "itemize": "Ctrl-I"
   },
   "labels_anchors": false,
   "latex_user_defs": false,
   "report_style_numbering": false,
   "user_envs_cfg": false
  },
  "varInspector": {
   "cols": {
    "lenName": 16,
    "lenType": 16,
    "lenVar": 40
   },
   "kernels_config": {
    "python": {
     "delete_cmd_postfix": "",
     "delete_cmd_prefix": "del ",
     "library": "var_list.py",
     "varRefreshCmd": "print(var_dic_list())"
    },
    "r": {
     "delete_cmd_postfix": ") ",
     "delete_cmd_prefix": "rm(",
     "library": "var_list.r",
     "varRefreshCmd": "cat(var_dic_list()) "
    }
   },
   "types_to_exclude": [
    "module",
    "function",
    "builtin_function_or_method",
    "instance",
    "_Feature"
   ],
   "window_display": false
  }
 },
 "nbformat": 4,
 "nbformat_minor": 4
}
