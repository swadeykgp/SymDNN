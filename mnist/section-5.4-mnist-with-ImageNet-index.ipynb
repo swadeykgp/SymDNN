{
 "cells": [
  {
   "cell_type": "code",
   "execution_count": 2,
   "metadata": {
    "ExecuteTime": {
     "end_time": "2021-11-20T12:39:23.917626Z",
     "start_time": "2021-11-20T12:39:23.061837Z"
    }
   },
   "outputs": [],
   "source": [
    "import torch\n",
    "import random\n",
    "import torchvision\n",
    "from torchvision import datasets, transforms\n",
    "import torch.nn as nn\n",
    "import torch.nn.functional as F\n",
    "from scipy.stats import norm\n",
    "import matplotlib.pyplot as plt\n",
    "import numpy as np\n",
    "import huffman\n",
    "import math\n",
    "import faiss\n",
    "import sys\n",
    "torch.manual_seed(0)\n",
    "np.random.seed(0)\n",
    "random.seed(0)\n",
    "import warnings\n",
    "warnings.filterwarnings('ignore')\n",
    "sys.path.append('./mnist')\n",
    "sys.path.append('./cifar10')\n",
    "sys.path.append('./imagenet')"
   ]
  },
  {
   "cell_type": "markdown",
   "metadata": {},
   "source": [
    "# MNIST Experiments: on ImageNet Codebook"
   ]
  },
  {
   "cell_type": "code",
   "execution_count": 3,
   "metadata": {
    "ExecuteTime": {
     "end_time": "2021-11-20T12:39:25.934540Z",
     "start_time": "2021-11-20T12:39:25.794612Z"
    }
   },
   "outputs": [
    {
     "data": {
      "text/plain": [
       "CNN_LeNet(\n",
       "  (conv1): Conv2d(1, 6, kernel_size=(5, 5), stride=(1, 1))\n",
       "  (pool1): MaxPool2d(kernel_size=2, stride=2, padding=0, dilation=1, ceil_mode=False)\n",
       "  (conv2): Conv2d(6, 16, kernel_size=(5, 5), stride=(1, 1))\n",
       "  (pool2): MaxPool2d(kernel_size=2, stride=2, padding=0, dilation=1, ceil_mode=False)\n",
       "  (fc1): Linear(in_features=400, out_features=120, bias=True)\n",
       "  (fc2): Linear(in_features=120, out_features=84, bias=True)\n",
       "  (fc3): Linear(in_features=84, out_features=10, bias=True)\n",
       ")"
      ]
     },
     "execution_count": 3,
     "metadata": {},
     "output_type": "execute_result"
    }
   ],
   "source": [
    "# Basic definitions for MNIST inference\n",
    "\n",
    "#  From my training code\n",
    "random_seed = 1 \n",
    "\n",
    "\n",
    "torch.manual_seed(0)\n",
    "np.random.seed(0)\n",
    "random.seed(0)\n",
    "apply_transform = transforms.Compose([transforms.Resize(32),transforms.ToTensor(),\n",
    "                                      transforms.Normalize((0.1309,), (0.2893,))])\n",
    "# Change the dataset folder to the proper location in a new system\n",
    "testset = datasets.MNIST(root='../../dataset', train=False, download=True, transform=apply_transform)\n",
    "testloader = torch.utils.data.DataLoader(testset, batch_size=1, shuffle=False)\n",
    "testloader2 = torch.utils.data.DataLoader(testset, batch_size=1, shuffle=False)\n",
    "\n",
    "class CNN_LeNet(nn.Module):\n",
    "    def __init__(self):\n",
    "        super(CNN_LeNet, self).__init__()\n",
    "        # Define the net structure\n",
    "        # This is the input layer first Convolution\n",
    "        self.conv1 = nn.Conv2d(1, 6, kernel_size=5)\n",
    "        self.pool1 = nn.MaxPool2d(kernel_size=2,stride=2)\n",
    "        self.conv2 = nn.Conv2d(6, 16, kernel_size=5)\n",
    "        self.pool2 = nn.MaxPool2d(kernel_size=2,stride=2)\n",
    "        self.fc1 = nn.Linear(400,120)\n",
    "        self.fc2 = nn.Linear(120,84)\n",
    "        self.fc3 = nn.Linear(84, 10) \n",
    "    \n",
    "    def forward(self, x): \n",
    "        x = F.relu(self.conv1(x))\n",
    "        x = self.pool1(x)\n",
    "        x = F.relu(self.conv2(x))\n",
    "        x = self.pool2(x)\n",
    "        x = x.view(-1, 400)\n",
    "        x = F.relu(self.fc1(x))\n",
    "        x = F.relu(self.fc2(x))\n",
    "        x = self.fc3(x)\n",
    "        x = F.softmax(x,dim=1)\n",
    "        return x\n",
    "\n",
    "pretrained_model = \"./mnist_v0.pt\"\n",
    "mnist_model = CNN_LeNet() \n",
    "mnist_model.load_state_dict(torch.load(pretrained_model))\n",
    "num_class = 10\n",
    "mnist_model.eval()"
   ]
  },
  {
   "cell_type": "code",
   "execution_count": 4,
   "metadata": {
    "ExecuteTime": {
     "end_time": "2021-11-20T12:41:32.673649Z",
     "start_time": "2021-11-20T12:41:32.651965Z"
    }
   },
   "outputs": [],
   "source": [
    "# Lets check the kind of prediction the model is doing - the standard non symbolic infrence\n",
    "def mnist_test_base_acc(model):\n",
    "    correct = 0\n",
    "    total = 0\n",
    "    model.eval()\n",
    "    with torch.no_grad():\n",
    "        for testdata in testloader:\n",
    "            X, y = testdata\n",
    "            output = model.forward(X)\n",
    "            init_pred = output.max(1, keepdim=True)[1] # get the index of the max log-probability\n",
    "            # If the initial prediction is wrong, dont bother attacking, just move on\n",
    "            if init_pred.item() == y.item():\n",
    "                #print(\"correct\")\n",
    "                correct += 1\n",
    "            total += 1    \n",
    "    return 100*round(correct/total, 4)"
   ]
  },
  {
   "cell_type": "code",
   "execution_count": 5,
   "metadata": {
    "ExecuteTime": {
     "end_time": "2021-11-20T12:41:34.788174Z",
     "start_time": "2021-11-20T12:41:34.762198Z"
    }
   },
   "outputs": [],
   "source": [
    "# Test accuracy of symbolic inference\n",
    "def mnist_test_sym_acc(model,sym_mnist,n_clusters, index,  patch_size, stride, channel_count, instr=False):\n",
    "    correct = 0 \n",
    "    total = 0 \n",
    "    centroid_lut = index.reconstruct_n(0, n_clusters)\n",
    "    if instr:\n",
    "        pdf = np.zeros((n_clusters,), dtype=int)\n",
    "    model.eval()\n",
    "    with torch.no_grad():\n",
    "        for data in testloader:\n",
    "            X, y = data\n",
    "            if instr:\n",
    "                Xsym_, pdf = sym_mnist(X.squeeze(), n_clusters, index, centroid_lut, pdf, patch_size, stride, channel_count)\n",
    "            else:\n",
    "                Xsym_ = sym_mnist(X.squeeze(), n_clusters, index, centroid_lut, patch_size, stride, channel_count)\n",
    "            Xsym = torch.from_numpy(Xsym_)\n",
    "            Xsym = Xsym.unsqueeze(0)\n",
    "            output = model.forward(Xsym.float())\n",
    "            for idx, i in enumerate(output):\n",
    "                if torch.argmax(i) == y[idx]:\n",
    "                    correct += 1\n",
    "                total += 1\n",
    "    if instr:\n",
    "        return round(correct/total, 4), pdf\n",
    "    else:\n",
    "        return round(correct/total, 4)"
   ]
  },
  {
   "cell_type": "code",
   "execution_count": 7,
   "metadata": {
    "ExecuteTime": {
     "end_time": "2021-10-22T04:52:02.167105Z",
     "start_time": "2021-10-22T04:51:54.717494Z"
    }
   },
   "outputs": [
    {
     "name": "stdout",
     "output_type": "stream",
     "text": [
      "Non Symbolic test accuracy:99.03% \n"
     ]
    }
   ],
   "source": [
    "# Standard non symbolic inference\n",
    "acc = mnist_test_base_acc(mnist_model)\n",
    "print(\"Non Symbolic test accuracy:{}% \".format(acc))"
   ]
  },
  {
   "cell_type": "code",
   "execution_count": 11,
   "metadata": {
    "ExecuteTime": {
     "end_time": "2021-11-20T12:53:39.078992Z",
     "start_time": "2021-11-20T12:53:00.272133Z"
    }
   },
   "outputs": [
    {
     "name": "stdout",
     "output_type": "stream",
     "text": [
      "Symbolic test accuracy (codebook 512):99.02% \n"
     ]
    }
   ],
   "source": [
    "# Load the different codebooks & perform symbolic inference\n",
    "# Start with 512\n",
    "from  patchutils_mnist import  fm_to_symbolic_fm as sym_mnist\n",
    "\n",
    "index = faiss.read_index(\"./kmeans_img_mnist_k2_s0_c512_v0.index\")\n",
    "n_clusters=512\n",
    "patch_size = (2, 2)\n",
    "channel_count = 1\n",
    "repeat = 2\n",
    "location=False\n",
    "stride = 0\n",
    "acc = mnist_test_sym_acc(mnist_model, sym_mnist, n_clusters, index,  patch_size, stride, channel_count)\n",
    "print(\"Symbolic test accuracy (codebook 512):{}% \".format(100*acc))"
   ]
  },
  {
   "cell_type": "code",
   "execution_count": 13,
   "metadata": {
    "ExecuteTime": {
     "end_time": "2021-10-22T05:08:25.986176Z",
     "start_time": "2021-10-22T05:07:46.648185Z"
    }
   },
   "outputs": [
    {
     "name": "stdout",
     "output_type": "stream",
     "text": [
      "Symbolic test accuracy (codebook 2048):99.07000000000001% \n"
     ]
    }
   ],
   "source": [
    "# Load the imagenet codebooks & try symbolic inference\n",
    "# Start with 2048\n",
    "from  patchutils_mnist import  fm_to_symbolic_fm as sym_mnist\n",
    "index = faiss.read_index(\"../imagenet/kmeans_img_imgnet_k2_s0_c2048_v0.index\")\n",
    "n_clusters= 2048\n",
    "patch_size = (2, 2)\n",
    "channel_count = 1\n",
    "repeat = 2\n",
    "location=False\n",
    "stride = 0\n",
    "acc = mnist_test_sym_acc(mnist_model, sym_mnist, n_clusters, index,  patch_size, stride, channel_count)\n",
    "print(\"Symbolic test accuracy (codebook 2048):{}% \".format(100*acc))"
   ]
  }
 ],
 "metadata": {
  "kernelspec": {
   "display_name": "Python 3 (ipykernel)",
   "language": "python",
   "name": "python3"
  },
  "language_info": {
   "codemirror_mode": {
    "name": "ipython",
    "version": 3
   },
   "file_extension": ".py",
   "mimetype": "text/x-python",
   "name": "python",
   "nbconvert_exporter": "python",
   "pygments_lexer": "ipython3",
   "version": "3.8.10"
  },
  "latex_envs": {
   "LaTeX_envs_menu_present": true,
   "autoclose": false,
   "autocomplete": true,
   "bibliofile": "biblio.bib",
   "cite_by": "apalike",
   "current_citInitial": 1,
   "eqLabelWithNumbers": true,
   "eqNumInitial": 1,
   "hotkeys": {
    "equation": "Ctrl-E",
    "itemize": "Ctrl-I"
   },
   "labels_anchors": false,
   "latex_user_defs": false,
   "report_style_numbering": false,
   "user_envs_cfg": false
  },
  "varInspector": {
   "cols": {
    "lenName": 16,
    "lenType": 16,
    "lenVar": 40
   },
   "kernels_config": {
    "python": {
     "delete_cmd_postfix": "",
     "delete_cmd_prefix": "del ",
     "library": "var_list.py",
     "varRefreshCmd": "print(var_dic_list())"
    },
    "r": {
     "delete_cmd_postfix": ") ",
     "delete_cmd_prefix": "rm(",
     "library": "var_list.r",
     "varRefreshCmd": "cat(var_dic_list()) "
    }
   },
   "types_to_exclude": [
    "module",
    "function",
    "builtin_function_or_method",
    "instance",
    "_Feature"
   ],
   "window_display": false
  }
 },
 "nbformat": 4,
 "nbformat_minor": 4
}
