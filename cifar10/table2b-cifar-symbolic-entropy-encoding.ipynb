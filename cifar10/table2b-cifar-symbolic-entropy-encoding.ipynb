{
 "cells": [
  {
   "cell_type": "code",
   "execution_count": 24,
   "metadata": {
    "ExecuteTime": {
     "end_time": "2021-11-20T15:41:46.858876Z",
     "start_time": "2021-11-20T15:41:46.818624Z"
    }
   },
   "outputs": [],
   "source": [
    "import torch\n",
    "import random\n",
    "import torchvision\n",
    "from torchvision import datasets, transforms\n",
    "import torch.nn as nn\n",
    "import torch.nn.functional as F\n",
    "from scipy.stats import norm\n",
    "import matplotlib.pyplot as plt\n",
    "import numpy as np\n",
    "import huffman\n",
    "import math\n",
    "import faiss\n",
    "import sys\n",
    "torch.manual_seed(0)\n",
    "np.random.seed(0)\n",
    "random.seed(0)\n",
    "import warnings\n",
    "warnings.filterwarnings('ignore')"
   ]
  },
  {
   "cell_type": "markdown",
   "metadata": {},
   "source": [
    "\n",
    "# CIFAR-10 Experiments: Size reduction through Huffman coding"
   ]
  },
  {
   "cell_type": "code",
   "execution_count": 25,
   "metadata": {
    "ExecuteTime": {
     "end_time": "2021-11-20T15:41:49.315549Z",
     "start_time": "2021-11-20T15:41:49.281800Z"
    }
   },
   "outputs": [],
   "source": [
    "def plot_pdf_distribution(pdf):\n",
    "    print(len(pdf))\n",
    "    plt.rcParams['figure.figsize'] = [4,3]\n",
    "    plt.rcParams['figure.dpi'] = 120 # 200 e.g. is really fine, but slower\n",
    "    plt.rcParams.update({'font.size': 10})\n",
    "    # plt.ticklabel_format(axis='x', style=\"sci\", scilimits=(0,0), useOffset=False)\n",
    "    # plt.hist(imagenet_pdf2048, bins=25, alpha=0.75, rwidth=0.75)\n",
    "    # plt.gca().set(ylabel='# of centroids in that bin', xlabel='# of centroids in a bin is hit', xscale='log', autoscale_on=True);\n",
    "    plt.ticklabel_format(style='plain')\n",
    "    plt.hist(pdf, bins=25, alpha=0.75, rwidth=0.75) #, log=True)\n",
    "    plt.gca().set(ylabel='# of centroids in that bin', xlabel='# of times centroids in a bin is hit');"
   ]
  },
  {
   "cell_type": "code",
   "execution_count": 26,
   "metadata": {
    "ExecuteTime": {
     "end_time": "2021-11-20T15:41:52.707993Z",
     "start_time": "2021-11-20T15:41:52.694496Z"
    }
   },
   "outputs": [],
   "source": [
    "def plot_data_savings(pdf,n_clusters):\n",
    "    # create the dictionary\n",
    "    freq_dict = []\n",
    "    for i in range(n_clusters):\n",
    "        freq_dict.append((i, pdf[i]))\n",
    "    code_book = huffman.codebook(freq_dict)   \n",
    "\n",
    "    code_book_dist = np.zeros((n_clusters,),dtype=np.int)\n",
    "    for j in range(n_clusters):\n",
    "        code_book_dist[j]=len(code_book[j])\n",
    "\n",
    "    plt.rcParams['figure.figsize'] = [3,3]\n",
    "    plt.rcParams['figure.dpi'] = 120 # 200 e.g. is really fine, but slower\n",
    "    plt.rcParams.update({'font.size': 10})\n",
    "    plt.ticklabel_format(style='plain')\n",
    "    plt.hist(code_book_dist, bins=6, alpha=0.75, rwidth=0.75)\n",
    "    plt.gca().set(ylabel='# of symbols in that bin', xlabel='bins of bits per symbol');    \n",
    "\n",
    "    base_bits = (math.log10(n_clusters) / math.log10(2))\n",
    "    print(base_bits)\n",
    "\n",
    "    # with no encoding, 11 bits needed to encode 2048 symbols\n",
    "    total_non_encoded = 0\n",
    "    for i in range(n_clusters):\n",
    "        total_non_encoded += pdf[i]*base_bits\n",
    "\n",
    "    total_encoded = 0\n",
    "    for i in range(n_clusters):\n",
    "        total_encoded += pdf[i]*code_book_dist[i]\n",
    "    return 100*(1 - total_encoded/total_non_encoded)"
   ]
  },
  {
   "cell_type": "code",
   "execution_count": 27,
   "metadata": {
    "ExecuteTime": {
     "end_time": "2021-11-20T15:41:56.386074Z",
     "start_time": "2021-11-20T15:41:55.725733Z"
    }
   },
   "outputs": [
    {
     "name": "stdout",
     "output_type": "stream",
     "text": [
      "Files already downloaded and verified\n"
     ]
    }
   ],
   "source": [
    "# Basic definitions for CIFAR-10 inference\n",
    "batch_size = 1\n",
    "#  From my training code\n",
    "random_seed = 1 \n",
    "\n",
    "torch.manual_seed(0)\n",
    "np.random.seed(0)\n",
    "random.seed(0)\n",
    "transform_test = transforms.Compose([\n",
    "    transforms.ToTensor(),\n",
    "    transforms.Normalize((0.4914, 0.4822, 0.4465), (0.2023, 0.1994, 0.2010)),\n",
    "])\n",
    "# Change the dataset folder to the proper location in a new system\n",
    "testset_cifar = torchvision.datasets.CIFAR10(root='../../dataset', train=False, download=True, transform=transform_test)\n",
    "testloader_cifar = torch.utils.data.DataLoader(testset_cifar, batch_size=batch_size, shuffle=False)\n",
    "testloader_std_cifar = torch.utils.data.DataLoader(testset_cifar, batch_size=64, shuffle=False)\n",
    "classes = ('plane', 'car', 'bird', 'cat', 'deer', 'dog', 'frog', 'horse', 'ship', 'truck')"
   ]
  },
  {
   "cell_type": "code",
   "execution_count": 28,
   "metadata": {
    "ExecuteTime": {
     "end_time": "2021-11-20T15:42:03.051595Z",
     "start_time": "2021-11-20T15:42:03.012447Z"
    }
   },
   "outputs": [
    {
     "data": {
      "text/plain": [
       "ResNet(\n",
       "  (conv1): Conv2d(3, 16, kernel_size=(3, 3), stride=(1, 1), padding=(1, 1), bias=False)\n",
       "  (bn1): BatchNorm2d(16, eps=1e-05, momentum=0.1, affine=True, track_running_stats=True)\n",
       "  (relu): ReLU(inplace=True)\n",
       "  (layer1): Sequential(\n",
       "    (0): BasicBlock(\n",
       "      (conv1): Conv2d(16, 16, kernel_size=(3, 3), stride=(1, 1), padding=(1, 1), bias=False)\n",
       "      (bn1): BatchNorm2d(16, eps=1e-05, momentum=0.1, affine=True, track_running_stats=True)\n",
       "      (relu): ReLU(inplace=True)\n",
       "      (conv2): Conv2d(16, 16, kernel_size=(3, 3), stride=(1, 1), padding=(1, 1), bias=False)\n",
       "      (bn2): BatchNorm2d(16, eps=1e-05, momentum=0.1, affine=True, track_running_stats=True)\n",
       "    )\n",
       "    (1): BasicBlock(\n",
       "      (conv1): Conv2d(16, 16, kernel_size=(3, 3), stride=(1, 1), padding=(1, 1), bias=False)\n",
       "      (bn1): BatchNorm2d(16, eps=1e-05, momentum=0.1, affine=True, track_running_stats=True)\n",
       "      (relu): ReLU(inplace=True)\n",
       "      (conv2): Conv2d(16, 16, kernel_size=(3, 3), stride=(1, 1), padding=(1, 1), bias=False)\n",
       "      (bn2): BatchNorm2d(16, eps=1e-05, momentum=0.1, affine=True, track_running_stats=True)\n",
       "    )\n",
       "    (2): BasicBlock(\n",
       "      (conv1): Conv2d(16, 16, kernel_size=(3, 3), stride=(1, 1), padding=(1, 1), bias=False)\n",
       "      (bn1): BatchNorm2d(16, eps=1e-05, momentum=0.1, affine=True, track_running_stats=True)\n",
       "      (relu): ReLU(inplace=True)\n",
       "      (conv2): Conv2d(16, 16, kernel_size=(3, 3), stride=(1, 1), padding=(1, 1), bias=False)\n",
       "      (bn2): BatchNorm2d(16, eps=1e-05, momentum=0.1, affine=True, track_running_stats=True)\n",
       "    )\n",
       "  )\n",
       "  (layer2): Sequential(\n",
       "    (0): BasicBlock(\n",
       "      (conv1): Conv2d(16, 32, kernel_size=(3, 3), stride=(2, 2), padding=(1, 1), bias=False)\n",
       "      (bn1): BatchNorm2d(32, eps=1e-05, momentum=0.1, affine=True, track_running_stats=True)\n",
       "      (relu): ReLU(inplace=True)\n",
       "      (conv2): Conv2d(32, 32, kernel_size=(3, 3), stride=(1, 1), padding=(1, 1), bias=False)\n",
       "      (bn2): BatchNorm2d(32, eps=1e-05, momentum=0.1, affine=True, track_running_stats=True)\n",
       "      (downsample): Sequential(\n",
       "        (0): AvgPool2d(kernel_size=1, stride=2, padding=0)\n",
       "        (1): BatchNorm2d(16, eps=1e-05, momentum=0.1, affine=True, track_running_stats=True)\n",
       "      )\n",
       "    )\n",
       "    (1): BasicBlock(\n",
       "      (conv1): Conv2d(32, 32, kernel_size=(3, 3), stride=(1, 1), padding=(1, 1), bias=False)\n",
       "      (bn1): BatchNorm2d(32, eps=1e-05, momentum=0.1, affine=True, track_running_stats=True)\n",
       "      (relu): ReLU(inplace=True)\n",
       "      (conv2): Conv2d(32, 32, kernel_size=(3, 3), stride=(1, 1), padding=(1, 1), bias=False)\n",
       "      (bn2): BatchNorm2d(32, eps=1e-05, momentum=0.1, affine=True, track_running_stats=True)\n",
       "    )\n",
       "    (2): BasicBlock(\n",
       "      (conv1): Conv2d(32, 32, kernel_size=(3, 3), stride=(1, 1), padding=(1, 1), bias=False)\n",
       "      (bn1): BatchNorm2d(32, eps=1e-05, momentum=0.1, affine=True, track_running_stats=True)\n",
       "      (relu): ReLU(inplace=True)\n",
       "      (conv2): Conv2d(32, 32, kernel_size=(3, 3), stride=(1, 1), padding=(1, 1), bias=False)\n",
       "      (bn2): BatchNorm2d(32, eps=1e-05, momentum=0.1, affine=True, track_running_stats=True)\n",
       "    )\n",
       "  )\n",
       "  (layer3): Sequential(\n",
       "    (0): BasicBlock(\n",
       "      (conv1): Conv2d(32, 64, kernel_size=(3, 3), stride=(2, 2), padding=(1, 1), bias=False)\n",
       "      (bn1): BatchNorm2d(64, eps=1e-05, momentum=0.1, affine=True, track_running_stats=True)\n",
       "      (relu): ReLU(inplace=True)\n",
       "      (conv2): Conv2d(64, 64, kernel_size=(3, 3), stride=(1, 1), padding=(1, 1), bias=False)\n",
       "      (bn2): BatchNorm2d(64, eps=1e-05, momentum=0.1, affine=True, track_running_stats=True)\n",
       "      (downsample): Sequential(\n",
       "        (0): AvgPool2d(kernel_size=1, stride=2, padding=0)\n",
       "        (1): BatchNorm2d(32, eps=1e-05, momentum=0.1, affine=True, track_running_stats=True)\n",
       "      )\n",
       "    )\n",
       "    (1): BasicBlock(\n",
       "      (conv1): Conv2d(64, 64, kernel_size=(3, 3), stride=(1, 1), padding=(1, 1), bias=False)\n",
       "      (bn1): BatchNorm2d(64, eps=1e-05, momentum=0.1, affine=True, track_running_stats=True)\n",
       "      (relu): ReLU(inplace=True)\n",
       "      (conv2): Conv2d(64, 64, kernel_size=(3, 3), stride=(1, 1), padding=(1, 1), bias=False)\n",
       "      (bn2): BatchNorm2d(64, eps=1e-05, momentum=0.1, affine=True, track_running_stats=True)\n",
       "    )\n",
       "    (2): BasicBlock(\n",
       "      (conv1): Conv2d(64, 64, kernel_size=(3, 3), stride=(1, 1), padding=(1, 1), bias=False)\n",
       "      (bn1): BatchNorm2d(64, eps=1e-05, momentum=0.1, affine=True, track_running_stats=True)\n",
       "      (relu): ReLU(inplace=True)\n",
       "      (conv2): Conv2d(64, 64, kernel_size=(3, 3), stride=(1, 1), padding=(1, 1), bias=False)\n",
       "      (bn2): BatchNorm2d(64, eps=1e-05, momentum=0.1, affine=True, track_running_stats=True)\n",
       "    )\n",
       "  )\n",
       "  (avgpool): AdaptiveAvgPool2d(output_size=(1, 1))\n",
       "  (fc): Linear(in_features=64, out_features=10, bias=True)\n",
       ")"
      ]
     },
     "execution_count": 28,
     "metadata": {},
     "output_type": "execute_result"
    }
   ],
   "source": [
    "from modeldefs import *\n",
    "\n",
    "# Base model for Cifar-10 (data [0,1]) \n",
    "pretrained_base_clampled_gradinit = './cifar10_resnet_gradinit_sc_232.pt'\n",
    "model_base_clamped_gradinit = resnet20()\n",
    "model_base_clamped_gradinit.load_state_dict(torch.load(pretrained_base_clampled_gradinit))\n",
    "model_base_clamped_gradinit.eval()"
   ]
  },
  {
   "cell_type": "code",
   "execution_count": 29,
   "metadata": {
    "ExecuteTime": {
     "end_time": "2021-11-20T15:42:07.924285Z",
     "start_time": "2021-11-20T15:42:07.909787Z"
    }
   },
   "outputs": [],
   "source": [
    "# Define a custom function that will clamp the images between 0 & 1 , without being too harsh as torch.clamp \n",
    "def softclamp01(image_tensor):\n",
    "    image_tensor_shape = image_tensor.shape\n",
    "    image_tensor = image_tensor.view(image_tensor.size(0), -1)\n",
    "    image_tensor -= image_tensor.min(1, keepdim=True)[0]\n",
    "    image_tensor /= image_tensor.max(1, keepdim=True)[0]\n",
    "    image_tensor = image_tensor.view(image_tensor_shape)\n",
    "    return image_tensor"
   ]
  },
  {
   "cell_type": "code",
   "execution_count": 30,
   "metadata": {
    "ExecuteTime": {
     "end_time": "2021-11-20T15:42:11.204518Z",
     "start_time": "2021-11-20T15:42:11.191662Z"
    }
   },
   "outputs": [],
   "source": [
    "# Lets check the kind of prediction the model is doing - the standard non symbolic infrence\n",
    "def cifar_test_base_acc(model):\n",
    "    base_clampled_gradinit_clean = 0\n",
    "    total = 0\n",
    "    # Clean base gradinit inference   \n",
    "    for images, labels in testloader_std_cifar:\n",
    "        with torch.no_grad():\n",
    "            X = softclamp01(images) \n",
    "            y = labels\n",
    "            output = model.forward(X)\n",
    "            for idx, i in enumerate(output):\n",
    "                if torch.argmax(i) == y[idx]:\n",
    "                    base_clampled_gradinit_clean += 1\n",
    "                #else:\n",
    "                #    # Whenever there is an error, print the image\n",
    "                #    print(\"Misclassification: Model: clean base gradinit. Test Image #: {}, Mispredicted label: {}\".format(total+1, torch.argmax(i)))\n",
    "                total +=1\n",
    "    return float(base_clampled_gradinit_clean / total) "
   ]
  },
  {
   "cell_type": "code",
   "execution_count": 10,
   "metadata": {
    "ExecuteTime": {
     "end_time": "2021-10-04T18:16:04.161862Z",
     "start_time": "2021-10-04T18:15:49.215202Z"
    }
   },
   "outputs": [
    {
     "name": "stdout",
     "output_type": "stream",
     "text": [
      " ******++++++++++++++============= Clean base gradinit (soft clamp [0,1]) model inference ================+++++++++++******\n",
      "Base Non symbolic Grad init (clamped) model Accuracy:91.57\n"
     ]
    }
   ],
   "source": [
    "print(\" ******++++++++++++++============= Clean base gradinit (scaled data [0,1]) model inference ================+++++++++++******\")\n",
    "acc = cifar_test_base_acc(model_base_clamped_gradinit)\n",
    "print(\"Base Non symbolic Grad init ((scaled data [0,1]) ) model Accuracy:{}\".format(100 * acc)) "
   ]
  },
  {
   "cell_type": "code",
   "execution_count": 31,
   "metadata": {
    "ExecuteTime": {
     "end_time": "2021-11-20T15:42:14.336445Z",
     "start_time": "2021-11-20T15:42:14.326990Z"
    }
   },
   "outputs": [],
   "source": [
    "# Lets check the kind of prediction the model is doing - the symbolic infrence\n",
    "def cifar_test_sym_acc(model, n_clusters, index, centroid_lut, pdf , patch_size, stride, channel_count):\n",
    "    sym_clampled_gradinit_clean = 0\n",
    "    total = 0\n",
    "    # Sym base gradinit inference   \n",
    "    for images, labels in testloader_cifar:\n",
    "        with torch.no_grad():\n",
    "            X = softclamp01(images) \n",
    "            y = labels\n",
    "            Xsym_, pdf = fm_to_symbolic_fm_instr(X.squeeze(), n_clusters, index, centroid_lut, pdf , patch_size, stride, channel_count)\n",
    "            Xsym = torch.from_numpy(Xsym_)\n",
    "            Xsym = Xsym.unsqueeze(0)\n",
    "            output = model.forward(Xsym.float())\n",
    "            for idx, i in enumerate(output):\n",
    "                if torch.argmax(i) == y[idx]:\n",
    "                    sym_clampled_gradinit_clean += 1\n",
    "                #else:\n",
    "                #    # Whenever there is an error, print the image\n",
    "                #    print(\"Misclassification: Model: clean base gradinit. Test Image #: {}, Mispredicted label: {}\".format(total+1, torch.argmax(i)))\n",
    "                total +=1\n",
    "    return float(sym_clampled_gradinit_clean / total), pdf"
   ]
  },
  {
   "cell_type": "code",
   "execution_count": 32,
   "metadata": {
    "ExecuteTime": {
     "end_time": "2021-11-20T15:42:17.297861Z",
     "start_time": "2021-11-20T15:42:17.285776Z"
    }
   },
   "outputs": [],
   "source": [
    "import faiss\n",
    "from  patchutils_img_instr import  fm_to_symbolic_fm_instr\n",
    "patch_size = (2, 2)\n",
    "channel_count = 3\n",
    "stride = 0"
   ]
  },
  {
   "cell_type": "code",
   "execution_count": 20,
   "metadata": {
    "ExecuteTime": {
     "end_time": "2021-10-05T10:47:07.571848Z",
     "start_time": "2021-10-05T10:42:56.422827Z"
    }
   },
   "outputs": [
    {
     "name": "stdout",
     "output_type": "stream",
     "text": [
      "Symbolic Grad init ((scaled data [0,1]) ) model Accuracy:89.42999999999999\n"
     ]
    }
   ],
   "source": [
    "index = faiss.read_index(\"./kmeans_img_k2_s0_c2048_v1_softclamp.index\")\n",
    "n_clusters=2048\n",
    "pdf_2048 = np.zeros((n_clusters,), dtype=int)\n",
    "centroid_lut = index.reconstruct_n(0, n_clusters)\n",
    "print(\" ******++++++++++++++============= Symbolic base gradinit (scaled data [0,1]) model inference (cymbols / clusters: 2048) ================+++++++++++******\")\n",
    "acc, pdf_2048 = cifar_test_sym_acc(model_base_clamped_gradinit, n_clusters, index, centroid_lut, pdf_2048 , patch_size, stride, channel_count)\n",
    "print(\"Symbolic Grad init ((scaled data [0,1]) ) model Accuracy:{}\".format(100 * acc)) "
   ]
  },
  {
   "cell_type": "code",
   "execution_count": 20,
   "metadata": {
    "ExecuteTime": {
     "end_time": "2021-10-14T17:16:21.705880Z",
     "start_time": "2021-10-14T17:13:27.442085Z"
    }
   },
   "outputs": [
    {
     "name": "stdout",
     "output_type": "stream",
     "text": [
      " ******++++++++++++++============= Symbolic base gradinit (scaled data [0,1]) model inference (cymbols / clusters: 1024) ================+++++++++++******\n",
      "Symbolic Grad init ((scaled data [0,1]) ) model Accuracy:87.62\n"
     ]
    }
   ],
   "source": [
    "index = faiss.read_index(\"./kmeans_img_k2_s0_c1024_v1_softclamp.index\")\n",
    "n_clusters=1024\n",
    "pdf_1024 = np.zeros((n_clusters,), dtype=int)\n",
    "centroid_lut = index.reconstruct_n(0, n_clusters)\n",
    "print(\" ******++++++++++++++============= Symbolic base gradinit (scaled data [0,1]) model inference (cymbols / clusters: 1024) ================+++++++++++******\")\n",
    "acc, pdf_1024 = cifar_test_sym_acc(model_base_clamped_gradinit, n_clusters, index, centroid_lut, pdf_1024 , patch_size, stride, channel_count)\n",
    "print(\"Symbolic Grad init ((scaled data [0,1]) ) model Accuracy:{}\".format(100 * acc)) "
   ]
  },
  {
   "cell_type": "code",
   "execution_count": 33,
   "metadata": {
    "ExecuteTime": {
     "end_time": "2021-11-20T15:45:00.908389Z",
     "start_time": "2021-11-20T15:42:49.484740Z"
    }
   },
   "outputs": [
    {
     "name": "stdout",
     "output_type": "stream",
     "text": [
      " ******++++++++++++++============= Symbolic base gradinit (scaled data [0,1]) model inference (cymbols / clusters: 512) ================+++++++++++******\n",
      "Symbolic Grad init ((scaled data [0,1]) ) model Accuracy:85.53\n"
     ]
    }
   ],
   "source": [
    "index = faiss.read_index(\"./kmeans_img_k2_s0_c512_v1_softclamp.index\")\n",
    "n_clusters=512\n",
    "pdf_512 = np.zeros((n_clusters,), dtype=int)\n",
    "centroid_lut = index.reconstruct_n(0, n_clusters)\n",
    "print(\" ******++++++++++++++============= Symbolic base gradinit (scaled data [0,1]) model inference (cymbols / clusters: 512) ================+++++++++++******\")\n",
    "acc, pdf_512 = cifar_test_sym_acc(model_base_clamped_gradinit, n_clusters, index, centroid_lut, pdf_512 , patch_size, stride, channel_count)\n",
    "print(\"Symbolic Grad init ((scaled data [0,1]) ) model Accuracy:{}\".format(100 * acc)) "
   ]
  },
  {
   "cell_type": "code",
   "execution_count": 23,
   "metadata": {
    "ExecuteTime": {
     "end_time": "2021-11-20T15:39:15.046850Z",
     "start_time": "2021-11-20T15:37:08.196368Z"
    }
   },
   "outputs": [
    {
     "name": "stdout",
     "output_type": "stream",
     "text": [
      " ******++++++++++++++============= Symbolic base gradinit (scaled data [0,1]) model inference (cymbols / clusters: 256) ================+++++++++++******\n",
      "Symbolic Grad init ((scaled data [0,1]) ) model Accuracy:80.82000000000001\n"
     ]
    }
   ],
   "source": [
    "index = faiss.read_index(\"./kmeans_img_k2_s0_c256_v1_softclamp.index\")\n",
    "n_clusters=256\n",
    "pdf_256 = np.zeros((n_clusters,), dtype=int)\n",
    "centroid_lut = index.reconstruct_n(0, n_clusters)\n",
    "print(\" ******++++++++++++++============= Symbolic base gradinit (scaled data [0,1]) model inference (cymbols / clusters: 256) ================+++++++++++******\")\n",
    "acc, pdf_256 = cifar_test_sym_acc(model_base_clamped_gradinit, n_clusters, index, centroid_lut, pdf_256 , patch_size, stride, channel_count)\n",
    "print(\"Symbolic Grad init ((scaled data [0,1]) ) model Accuracy:{}\".format(100 * acc)) "
   ]
  },
  {
   "cell_type": "code",
   "execution_count": 34,
   "metadata": {
    "ExecuteTime": {
     "end_time": "2021-11-20T15:45:13.894327Z",
     "start_time": "2021-11-20T15:45:13.704486Z"
    }
   },
   "outputs": [
    {
     "name": "stdout",
     "output_type": "stream",
     "text": [
      "Non encoded: 84480000\n",
      "Encoded: 57614022\n",
      "8.8671875\n",
      "Savings in storage for CIFAR-10 testset in losless encoding for 256 clusters: 31.80%\n"
     ]
    },
    {
     "data": {
      "image/png": "[encoded data removed]",
      "text/plain": [
       "<Figure size 360x360 with 1 Axes>"
      ]
     },
     "metadata": {
      "needs_background": "light"
     },
     "output_type": "display_data"
    }
   ],
   "source": [
    "# create the dictionary\n",
    "freq_dict_256 = []\n",
    "for i in range(256):\n",
    "    freq_dict_256.append((i, pdf_256[i]))\n",
    "codebook256 = huffman.codebook(freq_dict_256)   \n",
    "\n",
    "codebook_dist256 = np.zeros((256,),dtype=np.int)\n",
    "for j in range(256):\n",
    "    codebook_dist256[j]=len(codebook256[j])\n",
    "\n",
    "plt.rcParams['figure.figsize'] = [3,3]\n",
    "plt.rcParams['figure.dpi'] = 120 # 200 e.g. is really fine, but slower\n",
    "plt.rcParams.update({'font.size': 10})\n",
    "#plt.ticklabel_format(style='plain')\n",
    "plt.hist(codebook_dist256, bins=25, alpha=0.75, rwidth=0.75)\n",
    "plt.gca().set(ylabel='# of symbols in that bin', xlabel='bins of bits per symbol');    \n",
    "total_non_encoded = 0\n",
    "for i in range(256):\n",
    "    total_non_encoded += pdf_256[i]*11\n",
    "\n",
    "total_encoded = 0\n",
    "for i in range(256):\n",
    "    total_encoded += pdf_256[i]*codebook_dist256[i]\n",
    "    \n",
    "print(\"Non encoded:\", total_non_encoded)    \n",
    "print(\"Encoded:\", total_encoded)    \n",
    "print(np.mean(codebook_dist256))\n",
    "print(\"Savings in storage for CIFAR-10 testset in losless encoding for 256 clusters: {:.2f}%\".format(100*(1 - total_encoded/total_non_encoded)))    "
   ]
  },
  {
   "cell_type": "code",
   "execution_count": 36,
   "metadata": {
    "ExecuteTime": {
     "end_time": "2021-11-20T15:48:46.373633Z",
     "start_time": "2021-11-20T15:46:36.950824Z"
    }
   },
   "outputs": [
    {
     "name": "stdout",
     "output_type": "stream",
     "text": [
      " ******++++++++++++++============= Symbolic base gradinit (scaled data [0,1]) model inference (cymbols / clusters: 128) ================+++++++++++******\n",
      "Symbolic Grad init ((scaled data [0,1]) ) model Accuracy:72.36\n"
     ]
    }
   ],
   "source": [
    "index = faiss.read_index(\"./kmeans_img_k2_s0_c128_v1_softclamp.index\")\n",
    "n_clusters=128\n",
    "pdf_128 = np.zeros((n_clusters,), dtype=int)\n",
    "centroid_lut = index.reconstruct_n(0, n_clusters)\n",
    "print(\" ******++++++++++++++============= Symbolic base gradinit (scaled data [0,1]) model inference (cymbols / clusters: 128) ================+++++++++++******\")\n",
    "acc, pdf_128 = cifar_test_sym_acc(model_base_clamped_gradinit, n_clusters, index, centroid_lut, pdf_128 , patch_size, stride, channel_count)\n",
    "print(\"Symbolic Grad init ((scaled data [0,1]) ) model Accuracy:{}\".format(100 * acc)) "
   ]
  },
  {
   "cell_type": "code",
   "execution_count": 37,
   "metadata": {
    "ExecuteTime": {
     "end_time": "2021-11-20T15:50:32.881630Z",
     "start_time": "2021-11-20T15:50:32.732630Z"
    }
   },
   "outputs": [
    {
     "name": "stdout",
     "output_type": "stream",
     "text": [
      "Non encoded: 84480000\n",
      "Encoded: 49689695\n",
      "7.9765625\n",
      "Savings in storage for CIFAR-10 testset in losless encoding for 128 clusters: 41.18%\n"
     ]
    },
    {
     "data": {
      "image/png": "[encoded data removed]",
      "text/plain": [
       "<Figure size 360x360 with 1 Axes>"
      ]
     },
     "metadata": {
      "needs_background": "light"
     },
     "output_type": "display_data"
    }
   ],
   "source": [
    "# create the dictionary\n",
    "freq_dict_128 = []\n",
    "for i in range(128):\n",
    "    freq_dict_128.append((i, pdf_128[i]))\n",
    "codebook128 = huffman.codebook(freq_dict_128)   \n",
    "\n",
    "codebook_dist128 = np.zeros((128,),dtype=np.int)\n",
    "for j in range(128):\n",
    "    codebook_dist128[j]=len(codebook128[j])\n",
    "\n",
    "plt.rcParams['figure.figsize'] = [3,3]\n",
    "plt.rcParams['figure.dpi'] = 120 # 200 e.g. is really fine, but slower\n",
    "plt.rcParams.update({'font.size': 10})\n",
    "#plt.ticklabel_format(style='plain')\n",
    "plt.hist(codebook_dist128, bins=25, alpha=0.75, rwidth=0.75)\n",
    "plt.gca().set(ylabel='# of symbols in that bin', xlabel='bins of bits per symbol');    \n",
    "total_non_encoded = 0\n",
    "for i in range(128):\n",
    "    total_non_encoded += pdf_128[i]*11\n",
    "\n",
    "total_encoded = 0\n",
    "for i in range(128):\n",
    "    total_encoded += pdf_128[i]*codebook_dist128[i]\n",
    "    \n",
    "print(\"Non encoded:\", total_non_encoded)    \n",
    "print(\"Encoded:\", total_encoded)    \n",
    "print(np.mean(codebook_dist128))\n",
    "print(\"Savings in storage for CIFAR-10 testset in losless encoding for 128 clusters: {:.2f}%\".format(100*(1 - total_encoded/total_non_encoded)))    "
   ]
  },
  {
   "cell_type": "code",
   "execution_count": 21,
   "metadata": {
    "ExecuteTime": {
     "end_time": "2021-10-14T17:17:26.941461Z",
     "start_time": "2021-10-14T17:17:26.342912Z"
    }
   },
   "outputs": [
    {
     "name": "stdout",
     "output_type": "stream",
     "text": [
      "Non encoded: 84480000\n",
      "Encoded: 73051746\n",
      "10.728515625\n",
      "Savings in storage for CIFAR-10 testset: 13.53%\n"
     ]
    },
    {
     "data": {
      "image/png": "[encoded data removed]",
      "text/plain": [
       "<Figure size 360x360 with 1 Axes>"
      ]
     },
     "metadata": {
      "needs_background": "light"
     },
     "output_type": "display_data"
    }
   ],
   "source": [
    "# create the dictionary\n",
    "freq_dict_1024 = []\n",
    "for i in range(1024):\n",
    "    freq_dict_1024.append((i, pdf_1024[i]))\n",
    "codebook1024 = huffman.codebook(freq_dict_1024)   \n",
    "\n",
    "codebook_dist1024 = np.zeros((1024,),dtype=np.int)\n",
    "for j in range(1024):\n",
    "    codebook_dist1024[j]=len(codebook1024[j])\n",
    "\n",
    "plt.rcParams['figure.figsize'] = [3,3]\n",
    "plt.rcParams['figure.dpi'] = 120 # 200 e.g. is really fine, but slower\n",
    "plt.rcParams.update({'font.size': 10})\n",
    "#plt.ticklabel_format(style='plain')\n",
    "plt.hist(codebook_dist1024, bins=25, alpha=0.75, rwidth=0.75)\n",
    "plt.gca().set(ylabel='# of symbols in that bin', xlabel='bins of bits per symbol');    \n",
    "total_non_encoded = 0\n",
    "for i in range(1024):\n",
    "    total_non_encoded += pdf_1024[i]*11\n",
    "\n",
    "total_encoded = 0\n",
    "for i in range(1024):\n",
    "    total_encoded += pdf_1024[i]*codebook_dist1024[i]\n",
    "    \n",
    "print(\"Non encoded:\", total_non_encoded)    \n",
    "print(\"Encoded:\", total_encoded)    \n",
    "print(np.mean(codebook_dist1024))\n",
    "print(\"Savings in storage for CIFAR-10 testset: {:.2f}%\".format(100*(1 - total_encoded/total_non_encoded)))    "
   ]
  },
  {
   "cell_type": "code",
   "execution_count": 29,
   "metadata": {},
   "outputs": [
    {
     "name": "stdout",
     "output_type": "stream",
     "text": [
      "Non encoded: 84480000\n",
      "Encoded: 80895988\n",
      "11.7587890625\n",
      "Savings in storage for CIFAR-10 testset in losless encoding for 2048 clusters: 4.24%\n"
     ]
    },
    {
     "data": {
      "image/png": "[encoded data removed]",
      "text/plain": [
       "<Figure size 360x360 with 1 Axes>"
      ]
     },
     "metadata": {
      "needs_background": "light"
     },
     "output_type": "display_data"
    }
   ],
   "source": [
    "# create the dictionary\n",
    "freq_dict_2048 = []\n",
    "for i in range(2048):\n",
    "    freq_dict_2048.append((i, pdf_2048[i]))\n",
    "codebook2048 = huffman.codebook(freq_dict_2048)   \n",
    "\n",
    "codebook_dist2048 = np.zeros((2048,),dtype=np.int)\n",
    "for j in range(2048):\n",
    "    codebook_dist2048[j]=len(codebook2048[j])\n",
    "\n",
    "plt.rcParams['figure.figsize'] = [3,3]\n",
    "plt.rcParams['figure.dpi'] = 120 # 200 e.g. is really fine, but slower\n",
    "plt.rcParams.update({'font.size': 10})\n",
    "#plt.ticklabel_format(style='plain')\n",
    "plt.hist(codebook_dist2048, bins=25, alpha=0.75, rwidth=0.75)\n",
    "plt.gca().set(ylabel='# of symbols in that bin', xlabel='bins of bits per symbol');    \n",
    "total_non_encoded = 0\n",
    "for i in range(2048):\n",
    "    total_non_encoded += pdf_2048[i]*11\n",
    "\n",
    "total_encoded = 0\n",
    "for i in range(2048):\n",
    "    total_encoded += pdf_2048[i]*codebook_dist2048[i]\n",
    "    \n",
    "print(\"Non encoded:\", total_non_encoded)    \n",
    "print(\"Encoded:\", total_encoded)    \n",
    "print(np.mean(codebook_dist2048))\n",
    "print(\"Savings in storage for CIFAR-10 testset in losless encoding for 2048 clusters: {:.2f}%\".format(100*(1 - total_encoded/total_non_encoded)))    "
   ]
  },
  {
   "cell_type": "code",
   "execution_count": 28,
   "metadata": {
    "ExecuteTime": {
     "end_time": "2021-10-05T11:46:26.353428Z",
     "start_time": "2021-10-05T11:46:26.288056Z"
    }
   },
   "outputs": [
    {
     "name": "stdout",
     "output_type": "stream",
     "text": [
      "Non encoded: 84480000\n",
      "Encoded: 65327123\n",
      "9.826171875\n",
      "Savings in storage for CIFAR-10 testset in losless encoding for 512 clusters: 22.67%\n"
     ]
    },
    {
     "data": {
      "image/png": "[encoded data removed]",
      "text/plain": [
       "<Figure size 360x360 with 1 Axes>"
      ]
     },
     "metadata": {
      "needs_background": "light"
     },
     "output_type": "display_data"
    }
   ],
   "source": [
    "# create the dictionary\n",
    "freq_dict_512 = []\n",
    "for i in range(512):\n",
    "    freq_dict_512.append((i, pdf_512[i]))\n",
    "codebook512 = huffman.codebook(freq_dict_512)   \n",
    "\n",
    "codebook_dist512 = np.zeros((512,),dtype=np.int)\n",
    "for j in range(512):\n",
    "    codebook_dist512[j]=len(codebook512[j])\n",
    "\n",
    "plt.rcParams['figure.figsize'] = [3,3]\n",
    "plt.rcParams['figure.dpi'] = 120 # 200 e.g. is really fine, but slower\n",
    "plt.rcParams.update({'font.size': 10})\n",
    "#plt.ticklabel_format(style='plain')\n",
    "plt.hist(codebook_dist512, bins=25, alpha=0.75, rwidth=0.75)\n",
    "plt.gca().set(ylabel='# of symbols in that bin', xlabel='bins of bits per symbol');    \n",
    "total_non_encoded = 0\n",
    "for i in range(512):\n",
    "    total_non_encoded += pdf_512[i]*11\n",
    "\n",
    "total_encoded = 0\n",
    "for i in range(512):\n",
    "    total_encoded += pdf_512[i]*codebook_dist512[i]\n",
    "    \n",
    "print(\"Non encoded:\", total_non_encoded)    \n",
    "print(\"Encoded:\", total_encoded)    \n",
    "print(np.mean(codebook_dist512))\n",
    "print(\"Savings in storage for CIFAR-10 testset in losless encoding for 512 clusters: {:.2f}%\".format(100*(1 - total_encoded/total_non_encoded)))    "
   ]
  }
 ],
 "metadata": {
  "kernelspec": {
   "display_name": "Python 3 (ipykernel)",
   "language": "python",
   "name": "python3"
  },
  "language_info": {
   "codemirror_mode": {
    "name": "ipython",
    "version": 3
   },
   "file_extension": ".py",
   "mimetype": "text/x-python",
   "name": "python",
   "nbconvert_exporter": "python",
   "pygments_lexer": "ipython3",
   "version": "3.8.10"
  },
  "latex_envs": {
   "LaTeX_envs_menu_present": true,
   "autoclose": false,
   "autocomplete": true,
   "bibliofile": "biblio.bib",
   "cite_by": "apalike",
   "current_citInitial": 1,
   "eqLabelWithNumbers": true,
   "eqNumInitial": 1,
   "hotkeys": {
    "equation": "Ctrl-E",
    "itemize": "Ctrl-I"
   },
   "labels_anchors": false,
   "latex_user_defs": false,
   "report_style_numbering": false,
   "user_envs_cfg": false
  },
  "varInspector": {
   "cols": {
    "lenName": 16,
    "lenType": 16,
    "lenVar": 40
   },
   "kernels_config": {
    "python": {
     "delete_cmd_postfix": "",
     "delete_cmd_prefix": "del ",
     "library": "var_list.py",
     "varRefreshCmd": "print(var_dic_list())"
    },
    "r": {
     "delete_cmd_postfix": ") ",
     "delete_cmd_prefix": "rm(",
     "library": "var_list.r",
     "varRefreshCmd": "cat(var_dic_list()) "
    }
   },
   "types_to_exclude": [
    "module",
    "function",
    "builtin_function_or_method",
    "instance",
    "_Feature"
   ],
   "window_display": false
  }
 },
 "nbformat": 4,
 "nbformat_minor": 4
}
